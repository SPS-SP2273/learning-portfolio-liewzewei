{
 "cells": [
  {
   "attachments": {},
   "cell_type": "markdown",
   "id": "123456",
   "metadata": {},
   "source": [
    "<div style=\"text-align:left;font-size:2em\"><span style=\"font-weight:bolder;font-size:1.25em\">SP2273 | Learning Portfolio</span><br><br><span style=\"font-weight:bold;color:darkred\">Loops (Need) Exercises</span></div>"
   ]
  },
  {
   "cell_type": "markdown",
   "id": "474c15c1-4e0a-4876-b8e0-3090c384d9e3",
   "metadata": {},
   "source": [
    "# Celsius to Fahrenheit"
   ]
  },
  {
   "cell_type": "code",
   "execution_count": 1,
   "id": "4d71d589-7bbd-459a-b20c-73ae05b36ad6",
   "metadata": {},
   "outputs": [],
   "source": [
    "import numpy as np\n",
    "temperatures_celsius = [\n",
    "    0, 5, 10, 15, 20, 25,\n",
    "    30, 35, 40, 45, 50\n",
    "]\n",
    "np_temperatures_celsius = np.array(temperatures_celsius)"
   ]
  },
  {
   "cell_type": "code",
   "execution_count": 4,
   "id": "4bcebb36-898f-4c5c-92f0-ec6233896b40",
   "metadata": {},
   "outputs": [],
   "source": [
    "def convertCtoF(cels):\n",
    "    \"\"\"\n",
    "    This function converts a numpy array of temperatures\n",
    "    in Celsius into an array of temperatures in Fahrenheit.\n",
    "\n",
    "    args:\n",
    "    temp (np.array): a numpy array of temperatures in Celsius.\n",
    "\n",
    "    output:\n",
    "    A two-dimensional numpy array containing of temperatures in\n",
    "    both Celsius and Fahrenheit, in that order.\n",
    "    \"\"\"\n",
    "    fahr = (cels * 9/5) + 32\n",
    "    out = np.empty((len(cels),2))\n",
    "    for i in range(len(cels)):\n",
    "        out[i] = [cels[i],fahr[i]]\n",
    "    return out"
   ]
  },
  {
   "cell_type": "code",
   "execution_count": 8,
   "id": "a2a461f8-25c2-4f53-be33-6d236a2f3a97",
   "metadata": {},
   "outputs": [
    {
     "name": "stdout",
     "output_type": "stream",
     "text": [
      "0.0  , 32.0\n",
      "5.0  , 41.0\n",
      "10.0 , 50.0\n",
      "15.0 , 59.0\n",
      "20.0 , 68.0\n",
      "25.0 , 77.0\n",
      "30.0 , 86.0\n",
      "35.0 , 95.0\n",
      "40.0 , 104.0\n",
      "45.0 , 113.0\n",
      "50.0 , 122.0\n"
     ]
    }
   ],
   "source": [
    "arr = convertCtoF(np_temperatures_celsius)\n",
    "\n",
    "for cels,fahr in arr:\n",
    "    print(f\"{cels:<5}, {fahr}\")"
   ]
  },
  {
   "cell_type": "markdown",
   "id": "549577a4-6d58-4a31-bf5d-7cbd96ae3358",
   "metadata": {},
   "source": [
    "# Multiplication Table"
   ]
  },
  {
   "cell_type": "code",
   "execution_count": 10,
   "id": "fd63204f-c29b-433d-b184-1959aada9352",
   "metadata": {},
   "outputs": [
    {
     "name": "stdout",
     "output_type": "stream",
     "text": [
      "A1\tA2\tA3\t\n",
      "\n",
      "B1\tB2\tB3\t\n",
      "\n",
      "C1\tC2\tC3\t\n",
      "\n"
     ]
    }
   ],
   "source": [
    "\"\"\"\n",
    "You can put a loop within a loop to do doubly loopy stuff. Here is an example:\n",
    "\"\"\"\n",
    "for letter in ['A', 'B', 'C']:\n",
    "    for number in [1, 2, 3]:\n",
    "        print(f'{letter}{number}', end='\\t')\n",
    "    print('\\n')"
   ]
  },
  {
   "cell_type": "code",
   "execution_count": 20,
   "id": "9960ea51-4631-4cf5-9aca-698e9e1c95a1",
   "metadata": {},
   "outputs": [
    {
     "name": "stdout",
     "output_type": "stream",
     "text": [
      "1 : 1   2   3   4   5   \n",
      "\n",
      "2 : 2   4   6   8   10  \n",
      "\n",
      "3 : 3   6   9   12  15  \n",
      "\n",
      "4 : 4   8   12  16  20  \n",
      "\n",
      "5 : 5   10  15  20  25  \n",
      "\n"
     ]
    }
   ],
   "source": [
    "for i in range(1,6,1):\n",
    "    print(f\"{i} : \", end='')\n",
    "    for j in range(1,6,1):\n",
    "        print(f\"{i*j:<4}\",end='')\n",
    "    print('\\n')"
   ]
  },
  {
   "cell_type": "markdown",
   "id": "37b7ee5f-d50d-4056-813b-85c8f7c130a3",
   "metadata": {},
   "source": [
    "# Simulating a Coin Flip Experiment"
   ]
  },
  {
   "cell_type": "code",
   "execution_count": 24,
   "id": "8dfd5dfa-a7d3-428a-bff1-7556fcf04e83",
   "metadata": {},
   "outputs": [
    {
     "name": "stdout",
     "output_type": "stream",
     "text": [
      "Experiment   1: No. of Heads = 5\n",
      "Experiment   2: No. of Heads = 5\n",
      "Experiment   3: No. of Heads = 4\n",
      "Experiment   4: No. of Heads = 5\n",
      "Experiment   5: No. of Heads = 6\n",
      "Experiment   6: No. of Heads = 5\n",
      "Experiment   7: No. of Heads = 6\n",
      "Experiment   8: No. of Heads = 5\n",
      "Experiment   9: No. of Heads = 6\n",
      "Experiment  10: No. of Heads = 6\n"
     ]
    }
   ],
   "source": [
    "for i in range(1,11,1):\n",
    "    rand_arr = np.random.rand(10)\n",
    "    heads = (rand_arr>0.5).sum()\n",
    "    print(f\"Experiment {i:>3}: No. of Heads = {heads}\")"
   ]
  }
 ],
 "metadata": {
  "kernelspec": {
   "display_name": "Python 3 (ipykernel)",
   "language": "python",
   "name": "python3"
  },
  "language_info": {
   "codemirror_mode": {
    "name": "ipython",
    "version": 3
   },
   "file_extension": ".py",
   "mimetype": "text/x-python",
   "name": "python",
   "nbconvert_exporter": "python",
   "pygments_lexer": "ipython3",
   "version": "3.13.2"
  },
  "toc": {
   "base_numbering": 1,
   "nav_menu": {},
   "number_sections": true,
   "sideBar": true,
   "skip_h1_title": false,
   "title_cell": "Table of Contents",
   "title_sidebar": "Contents",
   "toc_cell": false,
   "toc_position": {},
   "toc_section_display": true,
   "toc_window_display": false
  },
  "vscode": {
   "interpreter": {
    "hash": "31f2aee4e71d21fbe5cf8b01ff0e069b9275f58929596ceb00d14d90e3e16cd6"
   }
  }
 },
 "nbformat": 4,
 "nbformat_minor": 5
}
