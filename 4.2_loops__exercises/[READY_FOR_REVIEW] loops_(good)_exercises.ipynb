{
 "cells": [
  {
   "attachments": {},
   "cell_type": "markdown",
   "id": "123456",
   "metadata": {},
   "source": [
    "<div style=\"text-align:left;font-size:2em\"><span style=\"font-weight:bolder;font-size:1.25em\">SP2273 | Learning Portfolio</span><br><br><span style=\"font-weight:bold;color:darkred\">Loops (Good) Exercises</span></div>"
   ]
  },
  {
   "cell_type": "markdown",
   "id": "b6b35aeb-9f1a-410f-becc-b4ffc7c10086",
   "metadata": {},
   "source": [
    "# Make Me an Odd List"
   ]
  },
  {
   "cell_type": "code",
   "execution_count": 1,
   "id": "7ea55401-151e-45ad-a2f9-1b520207dd84",
   "metadata": {},
   "outputs": [
    {
     "data": {
      "text/plain": [
       "[1, 9, 25, 49, 81]"
      ]
     },
     "execution_count": 1,
     "metadata": {},
     "output_type": "execute_result"
    }
   ],
   "source": [
    "list_of_squares = []\n",
    "for i in range(10):\n",
    "    if i % 2 == 0:\n",
    "        continue\n",
    "    list_of_squares.append(i**2)\n",
    "\n",
    "list_of_squares"
   ]
  },
  {
   "cell_type": "markdown",
   "id": "c209d476-35a0-4007-b5f6-e6386befc5e5",
   "metadata": {},
   "source": [
    "# Make Me Another Odd List"
   ]
  },
  {
   "cell_type": "code",
   "execution_count": 2,
   "id": "d9e9f881-f93d-4ff6-a17a-b8ccbac7ecd4",
   "metadata": {},
   "outputs": [
    {
     "data": {
      "text/plain": [
       "[1, 9, 25, 49, 81]"
      ]
     },
     "execution_count": 2,
     "metadata": {},
     "output_type": "execute_result"
    }
   ],
   "source": [
    "list_of_squares_comp = [i**2 for i in range(10) if i % 2 ==1]\n",
    "list_of_squares_comp"
   ]
  },
  {
   "cell_type": "markdown",
   "id": "bcb8320b-510b-4631-a852-90f439f64163",
   "metadata": {},
   "source": [
    "# Time Me!"
   ]
  },
  {
   "cell_type": "code",
   "execution_count": 3,
   "id": "df285c8e-2671-41d9-a8ce-3d62cf72f4cc",
   "metadata": {},
   "outputs": [
    {
     "name": "stdout",
     "output_type": "stream",
     "text": [
      "1.44 μs ± 31.9 ns per loop (mean ± std. dev. of 7 runs, 1,000,000 loops each)\n"
     ]
    }
   ],
   "source": [
    "%%timeit\n",
    "\n",
    "list_of_squares = []\n",
    "for i in range(10):\n",
    "    if i % 2 == 0:\n",
    "        continue\n",
    "    list_of_squares.append(i**2)"
   ]
  },
  {
   "cell_type": "code",
   "execution_count": 4,
   "id": "b015fb03-764b-4325-adde-4d404afda39d",
   "metadata": {},
   "outputs": [
    {
     "name": "stdout",
     "output_type": "stream",
     "text": [
      "1.37 μs ± 47.1 ns per loop (mean ± std. dev. of 7 runs, 1,000,000 loops each)\n"
     ]
    }
   ],
   "source": [
    "%%timeit\n",
    "\n",
    "list_of_squares_comp = [i**2 for i in range(10) if i % 2 ==1]"
   ]
  },
  {
   "cell_type": "markdown",
   "id": "11706745-1c64-4173-b1bc-5f7056f274ae",
   "metadata": {},
   "source": [
    "From the above two cells of code, we observe that:\n",
    "1. List comprehension has a smaller mean runtime per loop.\n",
    "2. List comprehension has a greater runtime variance per loop compared to normal for loops."
   ]
  },
  {
   "cell_type": "markdown",
   "id": "43a65a5b-d6d7-4582-92a9-b3a412862ffa",
   "metadata": {},
   "source": [
    "# A Problem of Decay"
   ]
  },
  {
   "cell_type": "code",
   "execution_count": 5,
   "id": "70879088-995d-4e61-b330-0f054119dd15",
   "metadata": {},
   "outputs": [
    {
     "name": "stdout",
     "output_type": "stream",
     "text": [
      "14\n"
     ]
    }
   ],
   "source": [
    "n = 100\n",
    "i = n\n",
    "years = 0\n",
    "\n",
    "while i > n/2:\n",
    "    i *= 95/100\n",
    "    years += 1\n",
    "\n",
    "print(years)"
   ]
  },
  {
   "cell_type": "markdown",
   "id": "c417836b-778c-424d-8763-f5792f0e50ef",
   "metadata": {},
   "source": [
    "# Changes in $\\text{CO}_2$"
   ]
  },
  {
   "cell_type": "code",
   "execution_count": 6,
   "id": "4fed2f49-3ce8-4b12-8766-cd830a003d95",
   "metadata": {},
   "outputs": [],
   "source": [
    "co2_data = [\n",
    "    (2000, 369.55), (2001, 371.14), (2002, 373.28), \n",
    "    (2003, 375.80), (2004, 377.52), (2005, 379.80), \n",
    "    (2006, 381.90), (2007, 383.79), (2008, 385.60), \n",
    "    (2009, 387.43), (2010, 389.90), (2011, 391.65), \n",
    "    (2012, 393.85), (2013, 396.52), (2014, 398.65),\n",
    "    (2015, 400.83), (2016, 404.24), (2017, 406.55), \n",
    "    (2018, 408.52), (2019, 411.44), (2020, 414.24)\n",
    "]"
   ]
  },
  {
   "cell_type": "code",
   "execution_count": 7,
   "id": "bfea7f08-56b7-4dd0-8de2-3ee122c9fa65",
   "metadata": {},
   "outputs": [],
   "source": [
    "# 1. Create an array of len n-1 that contains the difference in CO2 levels\n",
    "arr_of_diff = []\n",
    "for i in range(1,len(co2_data),1):\n",
    "    arr_of_diff.append(round(co2_data[i][1]-co2_data[i-1][1],2))"
   ]
  },
  {
   "cell_type": "code",
   "execution_count": 8,
   "id": "416569c0-e4e8-4eee-9ccc-86da48148250",
   "metadata": {},
   "outputs": [
    {
     "name": "stdout",
     "output_type": "stream",
     "text": [
      "\n",
      "        2014 -> 2015\n",
      "        Difference: 3.41\n",
      "        \n"
     ]
    }
   ],
   "source": [
    "for i in range(len(arr_of_diff)):\n",
    "    if arr_of_diff[i] >= 3:\n",
    "        print(f\"\"\"\n",
    "        {co2_data[i-1][0]} -> {co2_data[i][0]}\n",
    "        Difference: {arr_of_diff[i]}\n",
    "        \"\"\")"
   ]
  }
 ],
 "metadata": {
  "kernelspec": {
   "display_name": "Python 3 (ipykernel)",
   "language": "python",
   "name": "python3"
  },
  "language_info": {
   "codemirror_mode": {
    "name": "ipython",
    "version": 3
   },
   "file_extension": ".py",
   "mimetype": "text/x-python",
   "name": "python",
   "nbconvert_exporter": "python",
   "pygments_lexer": "ipython3",
   "version": "3.13.2"
  },
  "toc": {
   "base_numbering": 1,
   "nav_menu": {},
   "number_sections": true,
   "sideBar": true,
   "skip_h1_title": false,
   "title_cell": "Table of Contents",
   "title_sidebar": "Contents",
   "toc_cell": false,
   "toc_position": {},
   "toc_section_display": true,
   "toc_window_display": false
  },
  "vscode": {
   "interpreter": {
    "hash": "31f2aee4e71d21fbe5cf8b01ff0e069b9275f58929596ceb00d14d90e3e16cd6"
   }
  }
 },
 "nbformat": 4,
 "nbformat_minor": 5
}
