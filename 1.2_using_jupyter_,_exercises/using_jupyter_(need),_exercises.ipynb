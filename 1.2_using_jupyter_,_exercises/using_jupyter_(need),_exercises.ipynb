{
 "cells": [
  {
   "attachments": {},
   "cell_type": "markdown",
   "id": "123456",
   "metadata": {},
   "source": [
    "<div style=\"text-align:left;font-size:2em\"><span style=\"font-weight:bolder;font-size:1.25em\">SP2273 | Learning Portfolio</span><br><br><span style=\"font-weight:bold;color:darkred\">Using Jupyter (Need), Exercises</span></div>"
   ]
  },
  {
   "attachments": {},
   "cell_type": "markdown",
   "id": "e789acad",
   "metadata": {},
   "source": [
    "## 1 Quadratic Equations"
   ]
  },
  {
   "attachments": {},
   "cell_type": "markdown",
   "id": "5d6b6105",
   "metadata": {},
   "source": [
    "### Introduction"
   ]
  },
  {
   "cell_type": "markdown",
   "id": "fcef137c-9fa7-41ec-bc6c-c47d10b0e1de",
   "metadata": {},
   "source": [
    "\n",
    "<!-- ![](Polynomialdeg2.svg.png =200x) -->\n",
    "\n",
    "<img src=\"Polynomialdeg2.svg.png\" width=\"300\"/>\n",
    "\n",
    "<em>(Image from the <u><a href=\"https://en.wikipedia.org/wiki/Quadratic_equation\">Wikipedia page on Quadratic equations</a></u>)</em>\n",
    "\n",
    "The general form of a quadratic equation is:\n",
    "\n",
    "$$ax^2+bx+c=0$$\n"
   ]
  },
  {
   "attachments": {},
   "cell_type": "markdown",
   "id": "a2b0eb6f",
   "metadata": {},
   "source": [
    "### Solutions"
   ]
  },
  {
   "cell_type": "markdown",
   "id": "37c46c2c-170b-48d4-b174-b7de24d76f8b",
   "metadata": {},
   "source": [
    "\n",
    "Provided $a\\neq 0$, we can use an elementary algebraic method called <u><a href=\"https://en.wikipedia.org/wiki/Completing_the_square\">completing the square</a></u> to show that a quadratic equation has the following solution:\n",
    "$$x=\\frac{-b\\pm\\sqrt{b^2-4ac}}{2a}$$\n"
   ]
  },
  {
   "attachments": {},
   "cell_type": "markdown",
   "id": "6730bfe7",
   "metadata": {},
   "source": [
    "### Discriminant"
   ]
  },
  {
   "cell_type": "markdown",
   "id": "ff94879d-a233-4d56-ba1c-ed80deb695f2",
   "metadata": {},
   "source": [
    "\n",
    "The quantity $\\Delta=b^2-4ac$ is called the **discriminant** of the equation and decides the nature of its solutions. The table below shows the various possibilities.\n",
    "\n",
    "|**Discriminant**|**Roots**|\n",
    "|:--------------:|:--------|\n",
    "|$\\Delta=b^2-4ac=0$|A single solution of $-b/(2a)$|\n",
    "|$\\Delta=b^2-4ac>0$|Two distinct solutions|\n",
    "|$\\Delta=b^2-4ac<0$|No real solutions; both are complex.|\n"
   ]
  },
  {
   "cell_type": "markdown",
   "id": "ce30924c-b66e-4c22-ab40-8441bb71778e",
   "metadata": {},
   "source": [
    "## 2 In Your Own Words"
   ]
  },
  {
   "cell_type": "markdown",
   "id": "8d6c6855-ea48-401e-9513-ae5a921e13a3",
   "metadata": {},
   "source": [
    "### 1 What is a Git **repository**?\n",
    "A git repository is a virtual storage location that lets us store the source files and version history of our projects.\n",
    "### 2 Git keeps track of \\_\\_BLANK\\_\\_ in the files in our repository.\n",
    "Git keeps track of changes to the files in our repository.\n",
    "### 3 What is a **commit**?\n",
    "A commit helps us log our changes to Git.\n",
    "### 4 What is a **push**?\n",
    "A push uploads our committed changes to a cloud repository such as GitHub.\n",
    "### 5 What is a **pull**?\n",
    "A pull helps us download, to our local machine, the changes made by other parties on a cloud repository.\n",
    "### 6 What is the difference between **GitHub** and **GitHub Desktop**?\n",
    "GitHub is a cloud repository storage whereas GitHub Desktop is a GUI that helps us connect files on our local machine to GitHub."
   ]
  },
  {
   "cell_type": "markdown",
   "id": "0604443a-be55-4817-8b25-b8866d0bb86c",
   "metadata": {},
   "source": [
    "## 3 A Matter of Statistics"
   ]
  },
  {
   "cell_type": "markdown",
   "id": "ad27931d-2877-451b-836a-1b25246821a1",
   "metadata": {},
   "source": [
    "$$\\mu=\\frac{1}{n}\\sum^n_{i=1}x_i$$\n",
    "$$\\sigma=\\sqrt{\\frac{1}{n}\\sum^{n}_{i=1}(x_i-\\mu)^2}$$\n",
    "$$r=\\frac{\\sum^n_{i=1}(x_i-\\mu_X)(y_i-\\mu_Y)}{\\sqrt{\\sum^n_{i=1}(x_i-\\mu_X)^2\\sum^n_{i=1}(y_i-\\mu_Y)^2}}$$"
   ]
  },
  {
   "cell_type": "code",
   "execution_count": null,
   "id": "f2c84a04-0a6c-49a6-a41b-5efffaf5b392",
   "metadata": {},
   "outputs": [],
   "source": []
  }
 ],
 "metadata": {
  "kernelspec": {
   "display_name": "Python 3 (ipykernel)",
   "language": "python",
   "name": "python3"
  },
  "language_info": {
   "codemirror_mode": {
    "name": "ipython",
    "version": 3
   },
   "file_extension": ".py",
   "mimetype": "text/x-python",
   "name": "python",
   "nbconvert_exporter": "python",
   "pygments_lexer": "ipython3",
   "version": "3.13.2"
  },
  "toc": {
   "base_numbering": 1,
   "nav_menu": {},
   "number_sections": true,
   "sideBar": true,
   "skip_h1_title": false,
   "title_cell": "Table of Contents",
   "title_sidebar": "Contents",
   "toc_cell": false,
   "toc_position": {},
   "toc_section_display": true,
   "toc_window_display": false
  },
  "vscode": {
   "interpreter": {
    "hash": "31f2aee4e71d21fbe5cf8b01ff0e069b9275f58929596ceb00d14d90e3e16cd6"
   }
  }
 },
 "nbformat": 4,
 "nbformat_minor": 5
}
