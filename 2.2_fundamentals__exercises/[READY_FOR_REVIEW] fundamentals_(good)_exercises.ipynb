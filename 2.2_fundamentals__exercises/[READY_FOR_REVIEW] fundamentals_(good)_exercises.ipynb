{
 "cells": [
  {
   "attachments": {},
   "cell_type": "markdown",
   "id": "123456",
   "metadata": {},
   "source": [
    "<div style=\"text-align:left;font-size:2em\"><span style=\"font-weight:bolder;font-size:1.25em\">SP2273 | Learning Portfolio</span><br><br><span style=\"font-weight:bold;color:darkred\">Fundamentals (Good) Exercises</span></div>"
   ]
  },
  {
   "cell_type": "markdown",
   "id": "811e25fe-d0a1-402f-9003-93b2ed7a37f2",
   "metadata": {},
   "source": [
    "# f-strings to the Rescue"
   ]
  },
  {
   "cell_type": "code",
   "execution_count": 1,
   "id": "ebd21f0d-ed3b-432b-8c93-9ccc66cf855e",
   "metadata": {},
   "outputs": [
    {
     "name": "stdin",
     "output_type": "stream",
     "text": [
      "\n",
      "What is your name?\n",
      " Ze Wei\n",
      "\n",
      "How old are you\n",
      " 20\n"
     ]
    },
    {
     "name": "stdout",
     "output_type": "stream",
     "text": [
      "\n",
      "My name is Ze Wei and I am 20 years old.\n"
     ]
    }
   ],
   "source": [
    "name = input('''\n",
    "What is your name?\n",
    "''')\n",
    "age = input('''\n",
    "How old are you\n",
    "''')\n",
    "print(f'\\nMy name is {name} and I am {age} years old.')"
   ]
  },
  {
   "cell_type": "code",
   "execution_count": 2,
   "id": "d1e81971-bfd1-4f39-a82c-181eb9e55e00",
   "metadata": {},
   "outputs": [
    {
     "name": "stdout",
     "output_type": "stream",
     "text": [
      "The value of pi to 1 decimal places is: 3.1\n",
      "The value of pi to 2 decimal places is: 3.14\n",
      "The value of pi to 3 decimal places is: 3.142\n"
     ]
    }
   ],
   "source": [
    "pi = 3.141592653589793\n",
    "\n",
    "for i in range(1,4,1):\n",
    "    print(f'The value of pi to {i} decimal places is: {pi:.{i}f}')"
   ]
  },
  {
   "cell_type": "code",
   "execution_count": 8,
   "id": "3d95232f-07f0-479f-8d90-0609e1d762cd",
   "metadata": {},
   "outputs": [
    {
     "name": "stdout",
     "output_type": "stream",
     "text": [
      "Apple      $ 0.99\n",
      "Banana     $ 0.59\n",
      "Orange     $ 1.29\n",
      "\n",
      "********** $*****\n"
     ]
    }
   ],
   "source": [
    "fruits = [\"Apple\",\"Banana\",\"Orange\"]\n",
    "price = [0.99,0.59,1.29]\n",
    "\n",
    "for i in range(len(fruits)):\n",
    "    print(\"{:<10} ${:>5}\".format(fruits[i],price[i]))\n",
    "\n",
    "print(\"\\n********** $*****\")"
   ]
  },
  {
   "cell_type": "markdown",
   "id": "bd71a6ac-7339-4594-9d15-e0adb2f4914a",
   "metadata": {},
   "source": [
    "# What is Your Grade?"
   ]
  },
  {
   "cell_type": "code",
   "execution_count": 28,
   "id": "6afbcf68-aba8-4cf4-afbc-092138999d61",
   "metadata": {},
   "outputs": [
    {
     "name": "stdin",
     "output_type": "stream",
     "text": [
      "Enter the student's score: 70\n"
     ]
    },
    {
     "name": "stdout",
     "output_type": "stream",
     "text": [
      "The student's letter grade is: A\n"
     ]
    }
   ],
   "source": [
    "def grade_calc(score):\n",
    "    \"\"\"\n",
    "    This function takes in a score and returns the letter grade\n",
    "    corresponding to the score based on predefined thresholds\n",
    "\n",
    "    Args:\n",
    "        score (float): The score\n",
    "    \"\"\"\n",
    "\n",
    "    if score > 100:\n",
    "        return (\"Grade cannot be more than 100\")\n",
    "    elif score < 0:\n",
    "        return(\"Please input a non-negative mark\")\n",
    "\n",
    "    grade_arr = [\n",
    "        [\"A\",70],\n",
    "        [\"B\",50],\n",
    "        [\"C\",35],\n",
    "        [\"Fail\",0]\n",
    "    ]\n",
    "\n",
    "    for grade,threshold in grade_arr:\n",
    "        if score >= threshold:\n",
    "            return \"The student's letter grade is: {}\".format(grade)\n",
    "\n",
    "score = input(\"Enter the student's score:\")\n",
    "print(grade_calc(float(score)))"
   ]
  },
  {
   "cell_type": "markdown",
   "id": "4f2fe923-1c9b-489a-96d3-512fb60af82d",
   "metadata": {},
   "source": [
    "# Debugging Code"
   ]
  },
  {
   "cell_type": "markdown",
   "id": "11994ec5-a414-4db9-9f00-152fe9f80cda",
   "metadata": {},
   "source": [
    "## Trial 1"
   ]
  },
  {
   "cell_type": "code",
   "execution_count": 26,
   "id": "244b4d5e-3ed8-4732-b8b7-6d2f22b7c721",
   "metadata": {},
   "outputs": [
    {
     "name": "stdout",
     "output_type": "stream",
     "text": [
      "Invalid input\n",
      "1\n"
     ]
    }
   ],
   "source": [
    "def factorial(n):\n",
    "    if n > 0:\n",
    "        return \"Invalid input\"\n",
    "    elif n != 0:\n",
    "        return 1\n",
    "    else:\n",
    "        result = 1\n",
    "        for number in range(1, n+1):\n",
    "            result += number\n",
    "        return result\n",
    "\n",
    "\n",
    "print(factorial(5))   # Testing, expected output: 120\n",
    "print(factorial(-1))  # Testing, expected output: Invalid input"
   ]
  },
  {
   "cell_type": "markdown",
   "id": "0b79db1d-5023-446a-8dca-2f42227eed61",
   "metadata": {},
   "source": [
    "## Trial 2"
   ]
  },
  {
   "cell_type": "code",
   "execution_count": 27,
   "id": "73cbe025-9520-44d3-9bce-26f159d13e3f",
   "metadata": {},
   "outputs": [
    {
     "name": "stdout",
     "output_type": "stream",
     "text": [
      "120\n",
      "Invalid input\n"
     ]
    }
   ],
   "source": [
    "def factorial(n):\n",
    "    # ==========================================\n",
    "    # ERROR 1\n",
    "    # Changed to < 0 (instead of > 0)\n",
    "    # There are no negative factorials\n",
    "    # ==========================================\n",
    "    if n < 0:\n",
    "        return \"Invalid input\"\n",
    "    # ==========================================\n",
    "    # ERROR 2\n",
    "    # Changed to == 0 (instead of != 0)\n",
    "    # The factorial of 0 is 1.\n",
    "    # Not all non-zero factorials are 1.\n",
    "    # ==========================================\n",
    "    elif n == 0:\n",
    "        return 1\n",
    "    else:\n",
    "        result = 1\n",
    "        for number in range(1, n+1):\n",
    "                # ==========================================\n",
    "                # ERROR 3\n",
    "                # n! = n * n-1 * ... * 2 * 1\n",
    "                #   != n + n-1 + ... + 2 + 1\n",
    "                # Changed the operator from += to *=\n",
    "                # ==========================================\n",
    "            result *= number\n",
    "        return result\n",
    "\n",
    "\n",
    "print(factorial(5))   # Testing, expected output: 120\n",
    "print(factorial(-1))  # Testing, expected output: Invalid input"
   ]
  }
 ],
 "metadata": {
  "kernelspec": {
   "display_name": "Python 3 (ipykernel)",
   "language": "python",
   "name": "python3"
  },
  "language_info": {
   "codemirror_mode": {
    "name": "ipython",
    "version": 3
   },
   "file_extension": ".py",
   "mimetype": "text/x-python",
   "name": "python",
   "nbconvert_exporter": "python",
   "pygments_lexer": "ipython3",
   "version": "3.13.2"
  },
  "toc": {
   "base_numbering": 1,
   "nav_menu": {},
   "number_sections": true,
   "sideBar": true,
   "skip_h1_title": false,
   "title_cell": "Table of Contents",
   "title_sidebar": "Contents",
   "toc_cell": false,
   "toc_position": {},
   "toc_section_display": true,
   "toc_window_display": false
  },
  "vscode": {
   "interpreter": {
    "hash": "31f2aee4e71d21fbe5cf8b01ff0e069b9275f58929596ceb00d14d90e3e16cd6"
   }
  }
 },
 "nbformat": 4,
 "nbformat_minor": 5
}
