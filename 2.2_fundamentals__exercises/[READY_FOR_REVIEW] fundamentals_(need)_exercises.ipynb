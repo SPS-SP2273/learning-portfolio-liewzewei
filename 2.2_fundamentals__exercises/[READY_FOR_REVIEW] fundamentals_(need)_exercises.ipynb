{
 "cells": [
  {
   "attachments": {},
   "cell_type": "markdown",
   "id": "123456",
   "metadata": {},
   "source": [
    "<div style=\"text-align:left;font-size:2em\"><span style=\"font-weight:bolder;font-size:1.25em\">SP2273 | Learning Portfolio</span><br><br><span style=\"font-weight:bold;color:darkred\">Fundamentals (Need) Exercises</span></div>"
   ]
  },
  {
   "cell_type": "markdown",
   "id": "24ca1c9d-cbb8-4f0e-9799-e46f89ba1109",
   "metadata": {},
   "source": [
    "## 1 Total Recall?"
   ]
  },
  {
   "cell_type": "markdown",
   "id": "d475c30f-6137-4728-ab24-8239ce57b21f",
   "metadata": {},
   "source": [
    "### The notes can be summarised as follows\n",
    "1. Function Syntax in Python\n",
    "2. Equality in Python\n",
    "3. Packages in Python\n",
    "4. Ownership in Python\n",
    "5. Indentation in Python\n",
    "\n",
    "---\n",
    "\n",
    "**Function Syntax in Python**\\\n",
    "Python is case sensitive. Hence print() is not the same as Print()\\\n",
    "\\\n",
    "**Equality in python**\\\n",
    "'=' is not the same as '=='. '=' is an assignment operator whereas '==' is used\n",
    "to determine equality between two objects.\\\n",
    "\\\n",
    "**Packages in python**\\\n",
    "We import packages by using the following command\n",
    "```PYTHON\n",
    "import package\n",
    "```\n",
    "If we want to import a specific submodule from a package, we use\n",
    "```PYTHON\n",
    "from package import submodule\n",
    "```\n",
    "**Ownership in python**\\\n",
    "we use '.' to signify ownership.\n",
    "For example, `package.function()` means that `function()` is defined inside `package`\n",
    "and we are trying to run it without defining the entire function in our script.\\\n",
    "\\\n",
    "**Indentation in python**\\\n",
    "Indentation matters in python. When running loops, defining classes, or runnning \n",
    "any other programme that makes use of levels of code, indentations matter. For example,\n",
    "```PYTHON\n",
    "for i in range(10):\n",
    "    if i % 2 = 1:\n",
    "        odd += i\n",
    "```\n",
    "is not the same as\n",
    "```PYTHON\n",
    "for i in range(10):\n",
    "    if i % 2 = 1:\n",
    "    odd += i\n",
    "```\n",
    "\n",
    "---\n",
    "\n",
    "### Things I missed\n",
    "1. *Comments*\n",
    "2. *If Statements*\n",
    "3. *Variables and Strings in Python*\n",
    "4. *Brackets in Python*\n",
    "\n",
    "---\n",
    "***Comments***\\\n",
    "Comments in python can be written as follows:\n",
    "```PYTHON\n",
    "# This is a single-line comment\n",
    "```\n",
    "***If Statements***\\\n",
    "If statements are used to help us make decisions based on certain conditions. Eg,\n",
    "```PYTHON\n",
    "if condition_one == True:\n",
    "    # Decision 1\n",
    "elif condition_two == True:\n",
    "    # Decision 2\n",
    "else:\n",
    "    # Decision 3\n",
    "\n",
    "```\n",
    "***Variables and Strings in Python***\\\n",
    "Strings are enclosed by single- or double- quotes in python. Eg,\n",
    "```PYTHON\n",
    "# Declaring a variable\n",
    "variable = 'string'\n",
    "# I am printing the value of variable\n",
    "print(variable)\n",
    "# I am printing the string 'string'\n",
    "print('string')\n",
    "\n",
    "```\n",
    "***Brackets in Python***\\\n",
    "The three brackets used in Python are `()`, `[]`, and `{}`.\\\n",
    "They are used to call functions, declare lists ,and declare dictionaries respectively.\n",
    "```PYTHON\n",
    "# calling a function\n",
    "print('Hello World')\n",
    "# Declaring a list\n",
    "list_one = [1,2,3]\n",
    "# Declaring a dictionary\n",
    "assets = {\n",
    "    'Tables': 10\n",
    "    'Chairs': 20\n",
    "    'Whiteboards': 3\n",
    "    'Marker': 5\n",
    "}\n",
    "```\n",
    "Note that unlike lists, we access values in dictionaries by using their key.\n",
    "```PYTHON\n",
    "print(assets['Chairs'])\n",
    "```\n",
    "Output:\n",
    "```\n",
    "20\n",
    "```\n",
    "On an extra note, `()` is used to declare **tuples**.\\\n",
    "Tuples are similar to lists but are **immutable**, which means that their values cannot be changed\n",
    "```PYTHON\n",
    "# Declaring a tuple\n",
    "tuple_one = (1,2,3)\n",
    "# Trying to modify a tuple\n",
    "tuple_one[1] = 100\n",
    "```\n",
    "Output:\n",
    "```\n",
    "TypeError: 'tuple' object does not support item assignment\n",
    "```\n",
    "\n",
    "---"
   ]
  },
  {
   "cell_type": "markdown",
   "id": "e7a6a8ee-704d-4215-bdb4-eeb92e3c88ea",
   "metadata": {},
   "source": [
    "## 2 Debug me"
   ]
  },
  {
   "cell_type": "code",
   "execution_count": 7,
   "id": "fac84f51-87d9-4e5e-b9cd-601f785ee0b1",
   "metadata": {},
   "outputs": [
    {
     "ename": "IndentationError",
     "evalue": "unindent does not match any outer indentation level (<string>, line 3)",
     "output_type": "error",
     "traceback": [
      "  \u001b[36mFile \u001b[39m\u001b[32m<string>:3\u001b[39m\n\u001b[31m    \u001b[39m\u001b[31mPrint(x, y, z)\u001b[39m\n                  ^\n\u001b[31mIndentationError\u001b[39m\u001b[31m:\u001b[39m unindent does not match any outer indentation level\n"
     ]
    }
   ],
   "source": [
    "x, y = 3, 4\n",
    "        z = sqrt(x*2 + y**2)\n",
    "    Print(x, y, z)"
   ]
  },
  {
   "cell_type": "code",
   "execution_count": 8,
   "id": "446f0aed-795e-43e1-bf7e-fa9d8503bc61",
   "metadata": {},
   "outputs": [
    {
     "ename": "NameError",
     "evalue": "name 'sqrt' is not defined",
     "output_type": "error",
     "traceback": [
      "\u001b[31m---------------------------------------------------------------------------\u001b[39m",
      "\u001b[31mNameError\u001b[39m                                 Traceback (most recent call last)",
      "\u001b[36mCell\u001b[39m\u001b[36m \u001b[39m\u001b[32mIn[8]\u001b[39m\u001b[32m, line 2\u001b[39m\n\u001b[32m      1\u001b[39m x, y = \u001b[32m3\u001b[39m, \u001b[32m4\u001b[39m\n\u001b[32m----> \u001b[39m\u001b[32m2\u001b[39m z = \u001b[43msqrt\u001b[49m(x*\u001b[32m2\u001b[39m + y**\u001b[32m2\u001b[39m) \u001b[38;5;66;03m# Modified to be on the same indentation level\u001b[39;00m\n\u001b[32m      3\u001b[39m Print(x, y, z)\n",
      "\u001b[31mNameError\u001b[39m: name 'sqrt' is not defined"
     ]
    }
   ],
   "source": [
    "x, y = 3, 4\n",
    "z = sqrt(x*2 + y**2) # Modified to be on the same indentation level\n",
    "Print(x, y, z)"
   ]
  },
  {
   "cell_type": "code",
   "execution_count": 9,
   "id": "d09782ca-afa7-4655-817f-448f87108013",
   "metadata": {},
   "outputs": [
    {
     "ename": "NameError",
     "evalue": "name 'Print' is not defined",
     "output_type": "error",
     "traceback": [
      "\u001b[31m---------------------------------------------------------------------------\u001b[39m",
      "\u001b[31mNameError\u001b[39m                                 Traceback (most recent call last)",
      "\u001b[36mCell\u001b[39m\u001b[36m \u001b[39m\u001b[32mIn[9]\u001b[39m\u001b[32m, line 4\u001b[39m\n\u001b[32m      2\u001b[39m x, y = \u001b[32m3\u001b[39m, \u001b[32m4\u001b[39m\n\u001b[32m      3\u001b[39m z = math.sqrt(x*\u001b[32m2\u001b[39m + y**\u001b[32m2\u001b[39m)\n\u001b[32m----> \u001b[39m\u001b[32m4\u001b[39m \u001b[43mPrint\u001b[49m(x, y, z)\n",
      "\u001b[31mNameError\u001b[39m: name 'Print' is not defined"
     ]
    }
   ],
   "source": [
    "import math # imported math package\n",
    "x, y = 3, 4\n",
    "z = math.sqrt(x*2 + y**2)\n",
    "Print(x, y, z)"
   ]
  },
  {
   "cell_type": "code",
   "execution_count": 10,
   "id": "a4bdba21-e8a0-48b9-97ad-0d16bdc25dee",
   "metadata": {},
   "outputs": [
    {
     "name": "stdout",
     "output_type": "stream",
     "text": [
      "3 4 4.69041575982343\n"
     ]
    }
   ],
   "source": [
    "import math\n",
    "x, y = 3, 4\n",
    "z = math.sqrt(x*2 + y**2)\n",
    "print(x, y, z) # lowe case 'p' for print()"
   ]
  },
  {
   "cell_type": "markdown",
   "id": "23e1e8c6-8086-486c-b782-45b24d42e79d",
   "metadata": {},
   "source": [
    "## 3 In your own words"
   ]
  },
  {
   "cell_type": "markdown",
   "id": "5b1a7187-2f7b-4a5b-8f7c-3e54565c7140",
   "metadata": {},
   "source": [
    "|#|Term|Description|\n",
    "|---|---|---|\n",
    "|1|Function|A reusable sequence of procedures.|\n",
    "|2|Arguments|The value passed to be used as a parameter<sup>1</sup> in a function|\n",
    "|3|Comments|Lines of code not read by the interpreter and is used to improve code readibility.|\n",
    "|4|Indentations|The spacing in front of lines and is used to show different levels of code in applications like loops, class definitions|\n",
    "|5|Packages|Files that commonly contain class and function definitions and are used to simplify the job of people by eliminating the need to define every function from scratch|\n",
    "|6|.|Used to signify ownership.|\n",
    "|7|:|Used to show that the next line of code will be on a new level of indentation|\n",
    "|8|[]|A one-dimensional array and is used to store indices of data.|\n",
    "|9|[[],[]]|A two-dimensional array and is used to store data that can be categorised into groups.|\n",
    "|10|{}|Used to declare dictionaries that allow one-to-one mapping of data.|"
   ]
  },
  {
   "cell_type": "markdown",
   "id": "9421f84d-1425-491a-8d0b-12dc4455d042",
   "metadata": {},
   "source": [
    "## 4 More than one way to divide"
   ]
  },
  {
   "cell_type": "code",
   "execution_count": 16,
   "id": "14407841-d502-41b4-a83c-173fb64471e7",
   "metadata": {},
   "outputs": [
    {
     "data": {
      "text/plain": [
       "2.5"
      ]
     },
     "execution_count": 16,
     "metadata": {},
     "output_type": "execute_result"
    }
   ],
   "source": [
    "5/2 # Good old division"
   ]
  },
  {
   "cell_type": "code",
   "execution_count": 17,
   "id": "ee3094b5-0fae-4384-a8a4-6ae40d8abfa2",
   "metadata": {},
   "outputs": [
    {
     "data": {
      "text/plain": [
       "2"
      ]
     },
     "execution_count": 17,
     "metadata": {},
     "output_type": "execute_result"
    }
   ],
   "source": [
    "5//2 # Floor division: If not exactly divisible, returns the lower bound integer value"
   ]
  },
  {
   "cell_type": "code",
   "execution_count": 18,
   "id": "33d1806b-5eac-4d4b-b3f1-c33a9be553ee",
   "metadata": {},
   "outputs": [
    {
     "data": {
      "text/plain": [
       "1"
      ]
     },
     "execution_count": 18,
     "metadata": {},
     "output_type": "execute_result"
    }
   ],
   "source": [
    "5%2 # Modulo: Returns the remainder of division."
   ]
  },
  {
   "cell_type": "code",
   "execution_count": 22,
   "id": "6d55bd7e-ede7-457f-b1b4-8cb54a052108",
   "metadata": {},
   "outputs": [],
   "source": [
    "'''\n",
    "Let's see what happens if we run the three kinds of division on negative\n",
    "and positive values, as well as 0.\n",
    "'''\n",
    "# tuple of test data\n",
    "arr = (0,-29,11)\n",
    "\n",
    "# [[division],[floor_division],[modulo]]\n",
    "ans_arr = [[],[],[]]\n",
    "\n",
    "n = 3\n",
    "\n",
    "for i in range(n):\n",
    "    if i == 0:\n",
    "        j = 0\n",
    "        while j<3:\n",
    "            ans_arr[i].append(arr[j]/3)\n",
    "            j+=1\n",
    "    elif i == 1:\n",
    "        j = 0\n",
    "        while j<3:\n",
    "            ans_arr[i].append(arr[j]//3)\n",
    "            j+=1\n",
    "    elif i == 2:\n",
    "        j = 0\n",
    "        while j<3:\n",
    "            ans_arr[i].append(arr[j]%3)\n",
    "            j+=1\n",
    "    else:\n",
    "        print(\"This shouldn't happen\")"
   ]
  },
  {
   "cell_type": "code",
   "execution_count": 23,
   "id": "9a46d9ec-c153-48bb-a445-461a26f77191",
   "metadata": {},
   "outputs": [
    {
     "data": {
      "text/plain": [
       "[[0.0, -9.666666666666666, 3.6666666666666665], [0, -10, 3], [0, 1, 2]]"
      ]
     },
     "execution_count": 23,
     "metadata": {},
     "output_type": "execute_result"
    }
   ],
   "source": [
    "ans_arr"
   ]
  },
  {
   "cell_type": "markdown",
   "id": "c46d2c72-98b8-4f94-a1d9-43dc16370db8",
   "metadata": {},
   "source": [
    "### Findings\n",
    "There are two interesting observations we can make here:\n",
    "\n",
    "If a is a negative number, and b is a non-exact divisor of a,\n",
    "1. | a // b | > | a / b |\n",
    "2. a % b == | a | % b"
   ]
  },
  {
   "cell_type": "code",
   "execution_count": null,
   "id": "6e0f779c-3c9f-4a13-8fba-309d33fb609b",
   "metadata": {},
   "outputs": [],
   "source": []
  }
 ],
 "metadata": {
  "kernelspec": {
   "display_name": "Python 3 (ipykernel)",
   "language": "python",
   "name": "python3"
  },
  "language_info": {
   "codemirror_mode": {
    "name": "ipython",
    "version": 3
   },
   "file_extension": ".py",
   "mimetype": "text/x-python",
   "name": "python",
   "nbconvert_exporter": "python",
   "pygments_lexer": "ipython3",
   "version": "3.13.2"
  },
  "toc": {
   "base_numbering": 1,
   "nav_menu": {},
   "number_sections": true,
   "sideBar": true,
   "skip_h1_title": false,
   "title_cell": "Table of Contents",
   "title_sidebar": "Contents",
   "toc_cell": false,
   "toc_position": {},
   "toc_section_display": true,
   "toc_window_display": false
  },
  "vscode": {
   "interpreter": {
    "hash": "31f2aee4e71d21fbe5cf8b01ff0e069b9275f58929596ceb00d14d90e3e16cd6"
   }
  }
 },
 "nbformat": 4,
 "nbformat_minor": 5
}
