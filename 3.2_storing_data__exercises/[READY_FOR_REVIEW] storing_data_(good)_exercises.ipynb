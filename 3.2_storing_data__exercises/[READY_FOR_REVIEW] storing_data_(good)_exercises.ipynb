{
 "cells": [
  {
   "attachments": {},
   "cell_type": "markdown",
   "id": "123456",
   "metadata": {},
   "source": [
    "<div style=\"text-align:left;font-size:2em\"><span style=\"font-weight:bolder;font-size:1.25em\">SP2273 | Learning Portfolio</span><br><br><span style=\"font-weight:bold;color:darkred\">Storing Data (Good) Exercises</span></div>"
   ]
  },
  {
   "cell_type": "markdown",
   "id": "9c81c213-b1c3-4543-8c09-d34b0b502820",
   "metadata": {},
   "source": [
    "# Total Recall"
   ]
  },
  {
   "cell_type": "markdown",
   "id": "1b659dc3-346b-4e89-adc0-8c0eec09dadb",
   "metadata": {},
   "source": [
    "|Term|Brief Description|\n",
    "|:---|:---|\n",
    "|Subsetting|The process of extracting a range of data from a data storage object (eg, list, array).|\n",
    "|Indexing|The process of accessing a specific element in a data storage object through its index.|\n",
    "|Slicing|The process of obtaining a specific range of elements in a data storage objects.|\n",
    "|Masking|The process of isolating specific indices of data that fultills a certain condition in a data storage object.|"
   ]
  },
  {
   "cell_type": "markdown",
   "id": "98cc4c6b-f64e-4719-85c1-8e004237f809",
   "metadata": {},
   "source": [
    "# Show Me the 'Odd' Letters"
   ]
  },
  {
   "cell_type": "code",
   "execution_count": 2,
   "id": "959fee5d-ec22-48ca-becc-57ed0146ce6a",
   "metadata": {},
   "outputs": [],
   "source": [
    "import numpy as np\n",
    "np_array_2d = np.array([[1, \"A\"], [3, \"C\"], [2, \"B\"], [4, \"D\"],\n",
    "                        [5, \"E\"], [7, \"G\"], [6, \"F\"], [8, \"H\"],\n",
    "                        [10, \"J\"], [9, \"I\"]])"
   ]
  },
  {
   "cell_type": "code",
   "execution_count": 17,
   "id": "3c4861cc-f061-4cd1-94bc-c671fbf50651",
   "metadata": {},
   "outputs": [],
   "source": [
    "arr_of_nums = np_array_2d[np_array_2d[:,0].astype(int)%2==1][:,1]"
   ]
  },
  {
   "cell_type": "code",
   "execution_count": 18,
   "id": "0d4b2c07-0415-45e6-8894-f288c0e88a69",
   "metadata": {},
   "outputs": [
    {
     "data": {
      "text/plain": [
       "array(['A', 'C', 'E', 'G', 'I'], dtype='<U21')"
      ]
     },
     "execution_count": 18,
     "metadata": {},
     "output_type": "execute_result"
    }
   ],
   "source": [
    "arr_of_nums"
   ]
  },
  {
   "cell_type": "markdown",
   "id": "d9db0d7c-f014-4baa-b82b-9485a3cebd2c",
   "metadata": {},
   "source": [
    "# Exercise 3"
   ]
  },
  {
   "cell_type": "code",
   "execution_count": 21,
   "id": "0b61181f-9938-4682-883d-ba2b5ee4a583",
   "metadata": {},
   "outputs": [],
   "source": [
    "arr = [[66, 50, 57, -1, -1],\n",
    "       [92, -1, 88, -1, -1],\n",
    "       [75, -1, -1, 76, -1],\n",
    "       [-1, 51, 87, -1, -1],\n",
    "       [71, -1, 67, -1, 69]]\n",
    "arr = np.array(arr)"
   ]
  },
  {
   "cell_type": "code",
   "execution_count": 34,
   "id": "a5475fc1-ba8c-4138-8034-87a95387596f",
   "metadata": {},
   "outputs": [
    {
     "data": {
      "text/plain": [
       "array([[-1, -1, -1, -1, -1],\n",
       "       [-1, -1, -1, -1, -1],\n",
       "       [-1, -1, -1, -1, -1],\n",
       "       [-1, -1, -1, -1, -1],\n",
       "       [-1, -1, -1, -1, -1]])"
      ]
     },
     "execution_count": 34,
     "metadata": {},
     "output_type": "execute_result"
    }
   ],
   "source": [
    "arr[arr<50] = -1\n",
    "arr[arr>50] = 1\n",
    "arr[arr==50] = 0\n",
    "arr"
   ]
  }
 ],
 "metadata": {
  "kernelspec": {
   "display_name": "Python 3 (ipykernel)",
   "language": "python",
   "name": "python3"
  },
  "language_info": {
   "codemirror_mode": {
    "name": "ipython",
    "version": 3
   },
   "file_extension": ".py",
   "mimetype": "text/x-python",
   "name": "python",
   "nbconvert_exporter": "python",
   "pygments_lexer": "ipython3",
   "version": "3.13.2"
  },
  "toc": {
   "base_numbering": 1,
   "nav_menu": {},
   "number_sections": true,
   "sideBar": true,
   "skip_h1_title": false,
   "title_cell": "Table of Contents",
   "title_sidebar": "Contents",
   "toc_cell": false,
   "toc_position": {},
   "toc_section_display": true,
   "toc_window_display": false
  },
  "vscode": {
   "interpreter": {
    "hash": "31f2aee4e71d21fbe5cf8b01ff0e069b9275f58929596ceb00d14d90e3e16cd6"
   }
  }
 },
 "nbformat": 4,
 "nbformat_minor": 5
}
