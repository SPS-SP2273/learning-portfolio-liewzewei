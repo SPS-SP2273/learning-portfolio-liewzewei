{
 "cells": [
  {
   "attachments": {},
   "cell_type": "markdown",
   "id": "123456",
   "metadata": {},
   "source": [
    "<div style=\"text-align:left;font-size:2em\"><span style=\"font-weight:bolder;font-size:1.25em\">SP2273 | Learning Portfolio</span><br><br><span style=\"font-weight:bold;color:darkred\">Storing Data (Need) Exercises</span></div>"
   ]
  },
  {
   "cell_type": "markdown",
   "id": "5347af35-c77e-42d1-86aa-9df3a54e09e4",
   "metadata": {},
   "source": [
    "# Total Recall"
   ]
  },
  {
   "cell_type": "markdown",
   "id": "a19a31f3-9eea-47a4-9e53-ff7e69fb62db",
   "metadata": {},
   "source": [
    "## From memory\n",
    "**Two similarities between lists and arrays**\n",
    "1. Lists and arrays are both used to store data.\n",
    "2. Information inside lists and arrays can be accessed through their index.\n",
    "\n",
    "**Two differences between lists and arrays**\n",
    "1. Lists can store data of different data types whereas arrays can only store datas of the same data type.\n",
    "2. Arithmetic operations can be conducted on arrays but not lists.\n",
    "\n",
    "**What is a dictionary?** <br>\n",
    "A dictionary is an object used to store data that has one-to-one relations."
   ]
  },
  {
   "cell_type": "markdown",
   "id": "b8d7f99e-cfde-403a-8692-1cf058d046fd",
   "metadata": {},
   "source": [
    "### Arithmetic Operations on Lists\n",
    "Although lists can undergo arithmetic operations in a traditional sense, we can still use some operators on them. Particularly, the `+` and `*` operators are used for list concatenation.\n",
    "```python\n",
    ">>> a =  ['a']\n",
    ">>> a * 10\n",
    "['a', 'a', 'a', 'a', 'a', 'a', 'a', 'a', 'a', 'a']\n",
    ">>> b = ['b']\n",
    ">>> a + b\n",
    "['a', 'b']\n",
    "```"
   ]
  },
  {
   "cell_type": "markdown",
   "id": "34cdd24f-4a55-40b1-9b3d-1efdc6d55279",
   "metadata": {},
   "source": [
    "# Indexing"
   ]
  },
  {
   "cell_type": "code",
   "execution_count": 26,
   "id": "ae949cab-bcfe-41d6-a5fb-1ca305ed2ccd",
   "metadata": {},
   "outputs": [],
   "source": [
    "def even_or_odd(string,nature):\n",
    "    \"\"\"\n",
    "    This function takes in combinations of one alphabet and a number of\n",
    "    unlimited length and prints the string that fulfill the given\n",
    "    nature (even/odd)\n",
    "    \n",
    "    args:\n",
    "    string (str): a string that consists of an alphabet and a number,\n",
    "    for example 'a' + '1'.\n",
    "    nature (str): nature of number suffix (even/odd)\n",
    "    \"\"\"\n",
    "    num = int(string[1:len(string):1])\n",
    "\n",
    "    if nature == \"odd\":\n",
    "        n = 1\n",
    "    elif nature == \"even\":\n",
    "        n = 0\n",
    "\n",
    "    if num % 2 == n:\n",
    "        print(string)"
   ]
  },
  {
   "cell_type": "code",
   "execution_count": 27,
   "id": "6025c1a9-10dc-4227-9890-8c8188fb9773",
   "metadata": {},
   "outputs": [
    {
     "name": "stdout",
     "output_type": "stream",
     "text": [
      "a1\n",
      "c3\n",
      "e5\n",
      "g7\n",
      "i9\n"
     ]
    }
   ],
   "source": [
    "py_list = [\"a1\", \"b2\", \"c3\", \"d4\", \"e5\", \"f6\", \"g7\", \"h8\", \"i9\", \"j10\"]\n",
    "\n",
    "for i in py_list:\n",
    "    even_or_odd(i,\"odd\")"
   ]
  },
  {
   "cell_type": "markdown",
   "id": "f02b8c26-602d-48f9-88c3-c17d0e8e4454",
   "metadata": {},
   "source": [
    "# Index again"
   ]
  },
  {
   "cell_type": "code",
   "execution_count": 28,
   "id": "135890de-6365-42dd-a559-24199e5f32c0",
   "metadata": {},
   "outputs": [],
   "source": [
    "elements = ['Hydrogen',\n",
    "            'Helium', 'Lithium',\n",
    "            'Beryllium', 'Boron', 'Carbon',\n",
    "            'Nitrogen', 'Oxygen',\n",
    "            'Fluorine',\n",
    "            'Neon']"
   ]
  },
  {
   "cell_type": "code",
   "execution_count": 29,
   "id": "adf1452f-8d94-4031-abcd-0bae1ec27d9c",
   "metadata": {},
   "outputs": [
    {
     "name": "stdout",
     "output_type": "stream",
     "text": [
      "\n",
      "This is obtained through forward indexing: Boron\n",
      "\n",
      "This is obtained through reverse indexing: Boron\n",
      "\n"
     ]
    }
   ],
   "source": [
    "# Forward indexing\n",
    "for_idx = elements[4]\n",
    "\n",
    "# Reverse indeexing\n",
    "rev_idx = elements[4-len(elements)]\n",
    "\n",
    "print(f\"\"\"\n",
    "This is obtained through forward indexing: {for_idx}\\n\n",
    "This is obtained through reverse indexing: {rev_idx}\n",
    "\"\"\")"
   ]
  },
  {
   "cell_type": "markdown",
   "id": "22a69d3c-85c0-4b7f-85c5-8230b5065db2",
   "metadata": {},
   "source": [
    "# How many ones"
   ]
  },
  {
   "cell_type": "code",
   "execution_count": 30,
   "id": "6f02dae5-6964-4cad-94bc-43895561f6a8",
   "metadata": {},
   "outputs": [
    {
     "name": "stdout",
     "output_type": "stream",
     "text": [
      "9\n"
     ]
    }
   ],
   "source": [
    "import numpy as np\n",
    "\n",
    "numbers=[45, 60, 1, 30, 96, 1, 96, 57, 16, 1,\n",
    "        99, 62, 86, 43, 42, 60, 59, 1, 1, 35,\n",
    "        83, 47, 34, 28, 68, 23, 22, 92, 1, 79,\n",
    "        1, 29, 94, 72, 46, 47, 1, 74, 32, 20,\n",
    "        8, 37, 35, 1, 89, 29, 86, 19, 43, 61]\n",
    "\n",
    "np_numbers = np.array(numbers)\n",
    "\n",
    "n_ones = (np_numbers == 1).sum()\n",
    "\n",
    "print(n_ones)"
   ]
  },
  {
   "cell_type": "markdown",
   "id": "4eb2dd9a-acee-4120-bbee-1dd45bf879bd",
   "metadata": {},
   "source": [
    "# A Matter of Statistics"
   ]
  },
  {
   "cell_type": "code",
   "execution_count": 31,
   "id": "60f36e5d-ff49-4c9e-9248-02d06a5a6845",
   "metadata": {},
   "outputs": [
    {
     "name": "stdout",
     "output_type": "stream",
     "text": [
      "\n",
      "The mean of x_1 is 38.50\n",
      "The mean of x_2 is 302.50\n",
      "\n",
      "The standard deviation of x_1 is 32.42\n",
      "The standard deviation of x_2 is 326.09\n",
      "\n",
      "The manually calculated correlation coefficient is 0.99\n",
      "\n",
      "The correlation coefficient calculated by the np.corrcoef function is \n",
      "[[1.         0.98717966]\n",
      " [0.98717966 1.        ]]\n",
      "\n"
     ]
    }
   ],
   "source": [
    "x_1 = [1, 4, 9, 16, 25, 36, 49, 64, 81, 100]\n",
    "x_2 = [1, 8, 27, 64, 125, 216, 343, 512, 729, 1000]\n",
    "\n",
    "np_x_1 = np.array(x_1)\n",
    "np_x_2 = np.array(x_2)\n",
    "\n",
    "mean_x_1 = np.mean(np_x_1)\n",
    "mean_x_2 = np.mean(np_x_2)\n",
    "\n",
    "std_x_1 = np.std(np_x_1)\n",
    "std_x_2 = np.std(np_x_2)\n",
    "\n",
    "corrcoef = (np.sum((np_x_1-mean_x_1)*(np_x_2-mean_x_2)))/(np.sqrt(np.sum((np_x_1-mean_x_1)**2)*np.sum((np_x_2-mean_x_2)**2)))\n",
    "\n",
    "corrcoef_np = np.corrcoef(np_x_1,np_x_2)\n",
    "\n",
    "print(f\"\"\"\n",
    "The mean of x_1 is {mean_x_1:.2f}\n",
    "The mean of x_2 is {mean_x_2:.2f}\\n\n",
    "The standard deviation of x_1 is {std_x_1:.2f}\n",
    "The standard deviation of x_2 is {std_x_2:.2f}\\n\n",
    "The manually calculated correlation coefficient is {corrcoef:.2f}\\n\n",
    "The correlation coefficient calculated by the np.corrcoef function is \n",
    "{corrcoef_np}\n",
    "\"\"\")"
   ]
  }
 ],
 "metadata": {
  "kernelspec": {
   "display_name": "Python 3 (ipykernel)",
   "language": "python",
   "name": "python3"
  },
  "language_info": {
   "codemirror_mode": {
    "name": "ipython",
    "version": 3
   },
   "file_extension": ".py",
   "mimetype": "text/x-python",
   "name": "python",
   "nbconvert_exporter": "python",
   "pygments_lexer": "ipython3",
   "version": "3.13.2"
  },
  "toc": {
   "base_numbering": 1,
   "nav_menu": {},
   "number_sections": true,
   "sideBar": true,
   "skip_h1_title": false,
   "title_cell": "Table of Contents",
   "title_sidebar": "Contents",
   "toc_cell": false,
   "toc_position": {},
   "toc_section_display": true,
   "toc_window_display": false
  },
  "vscode": {
   "interpreter": {
    "hash": "31f2aee4e71d21fbe5cf8b01ff0e069b9275f58929596ceb00d14d90e3e16cd6"
   }
  }
 },
 "nbformat": 4,
 "nbformat_minor": 5
}
