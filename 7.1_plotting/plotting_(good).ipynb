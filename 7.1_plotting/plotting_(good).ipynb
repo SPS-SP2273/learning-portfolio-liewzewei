{
 "cells": [
  {
   "attachments": {},
   "cell_type": "markdown",
   "id": "123456",
   "metadata": {},
   "source": [
    "<div style=\"text-align:left;font-size:2em\"><span style=\"font-weight:bolder;font-size:1.25em\">SP2273 | Learning Portfolio</span><br><br><span style=\"font-weight:bold;color:darkred\">Plotting (Good)</span></div>"
   ]
  },
  {
   "attachments": {},
   "cell_type": "markdown",
   "id": "9fdecee2",
   "metadata": {},
   "source": [
    "# What to expect in this chapter"
   ]
  },
  {
   "attachments": {},
   "cell_type": "markdown",
   "id": "1b1b3173",
   "metadata": {},
   "source": [
    "# 1 Some nomenclature"
   ]
  },
  {
   "attachments": {},
   "cell_type": "markdown",
   "id": "c5069853",
   "metadata": {},
   "source": [
    "# 2 Comparing the two ‘dialects’"
   ]
  },
  {
   "attachments": {},
   "cell_type": "markdown",
   "id": "71350079",
   "metadata": {},
   "source": [
    "### pyplot Interface"
   ]
  },
  {
   "cell_type": "code",
   "execution_count": null,
   "id": "9a4f1c4f",
   "metadata": {},
   "outputs": [],
   "source": [
    "\n",
    "# Your code here\n"
   ]
  },
  {
   "attachments": {},
   "cell_type": "markdown",
   "id": "18731300",
   "metadata": {},
   "source": [
    "### OO Interface"
   ]
  },
  {
   "cell_type": "code",
   "execution_count": null,
   "id": "ccea0f00",
   "metadata": {},
   "outputs": [],
   "source": [
    "\n",
    "# Your code here\n"
   ]
  },
  {
   "attachments": {},
   "cell_type": "markdown",
   "id": "d97a7184",
   "metadata": {},
   "source": [
    "# 3 What is OO ax, really?"
   ]
  },
  {
   "attachments": {},
   "cell_type": "markdown",
   "id": "c901b161",
   "metadata": {},
   "source": [
    "# 4 A complete OO example"
   ]
  },
  {
   "attachments": {},
   "cell_type": "markdown",
   "id": "c9236a2c",
   "metadata": {},
   "source": [
    "# 5 Multiple rows and columns"
   ]
  },
  {
   "attachments": {},
   "cell_type": "markdown",
   "id": "c4bdbe34",
   "metadata": {},
   "source": [
    "### Using ax"
   ]
  },
  {
   "cell_type": "code",
   "execution_count": null,
   "id": "3198cad8",
   "metadata": {},
   "outputs": [],
   "source": [
    "\n",
    "# Your code here\n"
   ]
  },
  {
   "attachments": {},
   "cell_type": "markdown",
   "id": "dacd5e9b",
   "metadata": {},
   "source": [
    "## 5.1 Sharing axes"
   ]
  },
  {
   "attachments": {},
   "cell_type": "markdown",
   "id": "0f41ad2d",
   "metadata": {},
   "source": [
    "## 5.2 Accessing all axes"
   ]
  },
  {
   "attachments": {},
   "cell_type": "markdown",
   "id": "120d0ca4",
   "metadata": {},
   "source": [
    "# 6 Other useful plots"
   ]
  },
  {
   "attachments": {},
   "cell_type": "markdown",
   "id": "7670e0e5",
   "metadata": {},
   "source": [
    "## 6.1 Histograms"
   ]
  },
  {
   "attachments": {},
   "cell_type": "markdown",
   "id": "7bcaad87",
   "metadata": {},
   "source": [
    "### Data"
   ]
  },
  {
   "cell_type": "code",
   "execution_count": null,
   "id": "6bea772f",
   "metadata": {},
   "outputs": [],
   "source": [
    "\n",
    "# Your code here\n"
   ]
  },
  {
   "attachments": {},
   "cell_type": "markdown",
   "id": "d28c91b5",
   "metadata": {},
   "source": [
    "### A quick helper function"
   ]
  },
  {
   "cell_type": "code",
   "execution_count": null,
   "id": "9ada08d2",
   "metadata": {},
   "outputs": [],
   "source": [
    "\n",
    "# Your code here\n"
   ]
  },
  {
   "attachments": {},
   "cell_type": "markdown",
   "id": "1c9d7845",
   "metadata": {},
   "source": [
    "### The histogram"
   ]
  },
  {
   "cell_type": "code",
   "execution_count": null,
   "id": "5ef44dd5",
   "metadata": {},
   "outputs": [],
   "source": [
    "\n",
    "# Your code here\n"
   ]
  },
  {
   "attachments": {},
   "cell_type": "markdown",
   "id": "9b7282df",
   "metadata": {},
   "source": [
    "## 6.2 Scatter plots"
   ]
  },
  {
   "attachments": {},
   "cell_type": "markdown",
   "id": "f90f56ed",
   "metadata": {},
   "source": [
    "## 6.3 Bar charts"
   ]
  },
  {
   "attachments": {},
   "cell_type": "markdown",
   "id": "c7d5bbf9",
   "metadata": {},
   "source": [
    "## 6.4 Pie charts"
   ]
  }
 ],
 "metadata": {
  "kernelspec": {
   "display_name": "Python 3 (ipykernel)",
   "language": "python",
   "name": "python3"
  },
  "language_info": {
   "codemirror_mode": {
    "name": "ipython",
    "version": 3
   },
   "file_extension": ".py",
   "mimetype": "text/x-python",
   "name": "python",
   "nbconvert_exporter": "python",
   "pygments_lexer": "ipython3",
   "version": "3.13.2"
  },
  "toc": {
   "base_numbering": 1,
   "nav_menu": {},
   "number_sections": true,
   "sideBar": true,
   "skip_h1_title": false,
   "title_cell": "Table of Contents",
   "title_sidebar": "Contents",
   "toc_cell": false,
   "toc_position": {},
   "toc_section_display": true,
   "toc_window_display": false
  },
  "vscode": {
   "interpreter": {
    "hash": "31f2aee4e71d21fbe5cf8b01ff0e069b9275f58929596ceb00d14d90e3e16cd6"
   }
  }
 },
 "nbformat": 4,
 "nbformat_minor": 5
}
