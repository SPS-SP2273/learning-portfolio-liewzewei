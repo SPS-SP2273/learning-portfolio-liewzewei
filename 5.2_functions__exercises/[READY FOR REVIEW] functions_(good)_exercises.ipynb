{
 "cells": [
  {
   "attachments": {},
   "cell_type": "markdown",
   "id": "123456",
   "metadata": {},
   "source": [
    "<div style=\"text-align:left;font-size:2em\"><span style=\"font-weight:bolder;font-size:1.25em\">SP2273 | Learning Portfolio</span><br><br><span style=\"font-weight:bold;color:darkred\">Functions (Good) Exercises</span></div>"
   ]
  },
  {
   "cell_type": "markdown",
   "id": "073357e8-2977-407a-b677-bf441562ea25",
   "metadata": {},
   "source": [
    "# Celsius to Fahrenheit or Kelvin"
   ]
  },
  {
   "cell_type": "code",
   "execution_count": 1,
   "id": "8275e2ef-557d-41a4-8000-e66d21afbc12",
   "metadata": {},
   "outputs": [],
   "source": [
    "def convert_celsius(tmp,scl=\"Fahrenheit\"):\n",
    "    \"\"\"\n",
    "    This function converts temperatures from Celsius to either\n",
    "    Fahrenheit or Kelvin\n",
    "\n",
    "    args:\n",
    "    tmp (float): The temperature in Celsius\n",
    "    scl (Str): The target scale for conversion. Default is \"Fahrenheit\"\n",
    "    \"\"\"\n",
    "    if scl == \"Fahrenheit\":\n",
    "        return tmp * 9/5 + 32\n",
    "    elif scl == \"Kelvin\":\n",
    "        return tmp + 273.15\n",
    "    else:\n",
    "        return \"Invalid scale entered. Please key in \\\"Fahrenheit\\\" or \\\"Kelvin\\\"\""
   ]
  },
  {
   "cell_type": "markdown",
   "id": "4d621818-5bd5-4f9b-a0b8-5ab224a158fd",
   "metadata": {},
   "source": [
    "# Fahrenheit to Celsius or Kelvin"
   ]
  },
  {
   "cell_type": "code",
   "execution_count": 2,
   "id": "d0b5d3c6-354c-4cf8-a38e-2d8e9400dcd8",
   "metadata": {},
   "outputs": [],
   "source": [
    "def convert_fahrenheit(tmp,scl=\"Celsius\"):\n",
    "    \"\"\"\n",
    "    This function converts temperatures from Fahrenheit to either\n",
    "    Celsius or Kelvin.\n",
    "\n",
    "    args:\n",
    "    tmp (float): The temperature in Fahrenheit.\n",
    "    scl (Str): The target scale for conversion. Default is \"Celsius\"\n",
    "    \"\"\"\n",
    "    if scl == \"Celsius\":\n",
    "        return (tmp - 32) * 5/9\n",
    "    elif scl == \"Kelvin\":\n",
    "        return (tmp - 32) * 5/9 + 273.15\n",
    "    else:\n",
    "        return \"Invalid scale entered. Please key in \\\"Celsius\\\" or \\\"Kelvin\\\"\""
   ]
  },
  {
   "cell_type": "markdown",
   "id": "02ab224f-e4eb-4754-97d4-55a132328ea7",
   "metadata": {},
   "source": [
    "# Kelvin to Celsius or Fahrenheit"
   ]
  },
  {
   "cell_type": "code",
   "execution_count": 3,
   "id": "dfa1c559-42d9-44de-9777-29cf99ce2db4",
   "metadata": {},
   "outputs": [],
   "source": [
    "def convert_kelvin(tmp,scl=\"Celsius\"):\n",
    "    \"\"\"\n",
    "    This function converts temperatures from Kelvin to either\n",
    "    Celsius or Fahrenheit.\n",
    "\n",
    "    args:\n",
    "    tmp (float): The temperature in Kelvin.\n",
    "    scl (Str): The target scale for conversion. Default is \"Celsius\"\n",
    "    \"\"\"\n",
    "    if scl == \"Celsius\":\n",
    "        return tmp - 273.15\n",
    "    elif scl == \"Fahrenheit\":\n",
    "        return (tmp - 273.15) * 9/5 + 32\n",
    "    else:\n",
    "        return \"Invalid scale entered. Please key in \\\"Celsius\\\" or \\\"Kelvin\\\"\" "
   ]
  },
  {
   "cell_type": "markdown",
   "id": "89513667-315b-4154-a1f4-df1be1092835",
   "metadata": {},
   "source": [
    "# General Temperature Conversion"
   ]
  },
  {
   "cell_type": "code",
   "execution_count": 4,
   "id": "580cea19-8609-4289-8723-d04df6d7b080",
   "metadata": {},
   "outputs": [],
   "source": [
    "def convert_temperature(tmp,src,tgt):\n",
    "    \"\"\"\n",
    "    This function converts temperatures between Kelvin, Celsius, and \n",
    "    Fahrenheit\n",
    "\n",
    "    args:\n",
    "    tmp (float): The temperature.\n",
    "    src (Str): The scale of input temperature.\n",
    "    tgt (Str): The target scale of output temperature\n",
    "    \"\"\"\n",
    "\n",
    "    tmp_str = [\"Celsius\", \"Fahrenheit\",\"Kelvin\"]\n",
    "\n",
    "    if src not in tmp_str or tgt not in tmp_str:\n",
    "        return \"Invalid input scale entered\"\n",
    "    \n",
    "    if src == tgt:\n",
    "        return round(tmp,2)\n",
    "    elif src == \"Celsius\":\n",
    "        return round(convert_celsius(tmp,tgt),2)\n",
    "    elif src == \"Fahrenheit\":\n",
    "        return round(convert_fahrenheit(tmp,tgt),2)\n",
    "    elif src == \"Kelvin\":\n",
    "        return round(convert_kelvin(tmp,tgt),2)"
   ]
  },
  {
   "cell_type": "markdown",
   "id": "ba7650f6-5bee-4932-9b8e-54cd01795cf8",
   "metadata": {},
   "source": [
    "# Test"
   ]
  },
  {
   "cell_type": "code",
   "execution_count": 5,
   "id": "74a83fa5-89c6-4522-bbc1-419ab0b5d697",
   "metadata": {},
   "outputs": [],
   "source": [
    "test_cases = [\n",
    "\n",
    "    # Celsius conversions\n",
    "    [0, \"Celsius\", \"Fahrenheit\", 32],\n",
    "    [100, \"Celsius\", \"Kelvin\", 373.15],\n",
    "    [-40, \"Celsius\", \"Fahrenheit\", -40], \n",
    "    [0, \"Celsius\", \"Celsius\", 0], \n",
    "    \n",
    "    # Fahrenheit conversions\n",
    "    [32, \"Fahrenheit\", \"Celsius\", 0],\n",
    "    [212, \"Fahrenheit\", \"Kelvin\", 373.15],\n",
    "    [-40, \"Fahrenheit\", \"Celsius\", -40], \n",
    "    [98.6, \"Fahrenheit\", \"Fahrenheit\", 98.6], \n",
    "    \n",
    "    # Kelvin conversions\n",
    "    [0, \"Kelvin\", \"Celsius\", -273.15], \n",
    "    [0, \"Kelvin\", \"Fahrenheit\", -459.67], \n",
    "    [273.15, \"Kelvin\", \"Celsius\", 0],\n",
    "    [373.15, \"Kelvin\", \"Fahrenheit\", 212],\n",
    "    \n",
    "    # Invalid input scales\n",
    "    [100, \"Rankine\", \"Celsius\", \"Invalid input scale entered\"],\n",
    "    [100, \"Celsius\", \"Delisle\", \"Invalid input scale entered\"],\n",
    "]\n"
   ]
  },
  {
   "cell_type": "code",
   "execution_count": 6,
   "id": "da212503-4d0b-4404-bf67-8bb2ade7a56c",
   "metadata": {},
   "outputs": [],
   "source": [
    "res = []\n",
    "for i in range(len(test_cases)):\n",
    "    tmp = test_cases[i][0]\n",
    "    src = test_cases[i][1]\n",
    "    tgt = test_cases[i][2]\n",
    "    res.append(convert_temperature(tmp,src,tgt)==test_cases[i][3])"
   ]
  },
  {
   "cell_type": "code",
   "execution_count": 7,
   "id": "c44f4c43-c545-4cab-89d6-12deb6ab6322",
   "metadata": {},
   "outputs": [
    {
     "name": "stdout",
     "output_type": "stream",
     "text": [
      "Congratulations, you passed all test cases!\n"
     ]
    }
   ],
   "source": [
    "if sum(res) == len(test_cases):\n",
    "    print(\"Congratulations, you passed all test cases!\")"
   ]
  }
 ],
 "metadata": {
  "kernelspec": {
   "display_name": "Python 3 (ipykernel)",
   "language": "python",
   "name": "python3"
  },
  "language_info": {
   "codemirror_mode": {
    "name": "ipython",
    "version": 3
   },
   "file_extension": ".py",
   "mimetype": "text/x-python",
   "name": "python",
   "nbconvert_exporter": "python",
   "pygments_lexer": "ipython3",
   "version": "3.13.2"
  },
  "toc": {
   "base_numbering": 1,
   "nav_menu": {},
   "number_sections": true,
   "sideBar": true,
   "skip_h1_title": false,
   "title_cell": "Table of Contents",
   "title_sidebar": "Contents",
   "toc_cell": false,
   "toc_position": {},
   "toc_section_display": true,
   "toc_window_display": false
  },
  "vscode": {
   "interpreter": {
    "hash": "31f2aee4e71d21fbe5cf8b01ff0e069b9275f58929596ceb00d14d90e3e16cd6"
   }
  }
 },
 "nbformat": 4,
 "nbformat_minor": 5
}
