{
 "cells": [
  {
   "attachments": {},
   "cell_type": "markdown",
   "id": "123456",
   "metadata": {},
   "source": [
    "<div style=\"text-align:left;font-size:2em\"><span style=\"font-weight:bolder;font-size:1.25em\">SP2273 | Learning Portfolio</span><br><br><span style=\"font-weight:bold;color:darkred\">Functions (Need) Exercises</span></div>"
   ]
  },
  {
   "cell_type": "markdown",
   "id": "008f83a6-cda5-4d51-b6cd-0a6bc7783869",
   "metadata": {},
   "source": [
    "# Do You Know Why?"
   ]
  },
  {
   "cell_type": "code",
   "execution_count": 1,
   "id": "bce2a0b0-9d5f-4e66-a2d6-25a065914884",
   "metadata": {},
   "outputs": [],
   "source": [
    "def greeting(name):\n",
    "    if name == 'Batman':\n",
    "        return 'Hello Batman! So, nice to meet you!'\n",
    "    return f'Hello {name}!'"
   ]
  },
  {
   "cell_type": "markdown",
   "id": "54da29f1-597e-4228-aa45-509c739d1e2d",
   "metadata": {},
   "source": [
    "1. The interpreter checks for `name == 'Batman'`. If `True`, the function will immediately return `'Hello Batman! So, nice to meet you!'`. If `False`, the interpreter will check for any else statements. In this case, there are none. Hence, the interpreter skips the if statement entirely if `name != Batman`.\n",
    "2. The next statement of the function is the `return` statement. This returns `f'Hello {name}'`.\n",
    "\n",
    "In this particular case, our code works exactly like\n",
    "```python\n",
    "def greeting(name):\n",
    "    if name == 'Batman':\n",
    "        return 'Hello Batman! So, nice to meet you!'\n",
    "    else:\n",
    "        return f'Hello {name}!'\n",
    "```\n",
    "since the latter return function is only run when the initial if condition is `False`. In other words, if the if statement condition is `True`, ie `name == 'Batman'`, the function will return a string and immediately exit, not running any statements after it."
   ]
  },
  {
   "cell_type": "markdown",
   "id": "a6e972db-5d0b-46ac-9efb-4aa3b0d69007",
   "metadata": {},
   "source": [
    "# Chubby or Not"
   ]
  },
  {
   "cell_type": "code",
   "execution_count": 9,
   "id": "22263694-f5f2-43b7-80c8-9148fdb4d7f5",
   "metadata": {},
   "outputs": [],
   "source": [
    "def calculate_bmi(weight,height):\n",
    "    \"\"\"\n",
    "    This function calculates a person's BMI and determines what\n",
    "    category of health they are in.\n",
    "\n",
    "    Input:\n",
    "    weight (float): Weight of individual in kilograms.\n",
    "    height (float): Height of individual in meters.\n",
    "    \"\"\"\n",
    "    if weight <= 0 or height <= 0:\n",
    "        return \"Please enter a valid weight and height.\"\n",
    "    \n",
    "    BMI = round(weight / (height ** 2),1)\n",
    "\n",
    "    Category = (\"Underweight\", \"Normal weight\", \"Overweight\", \"Obese\")\n",
    "    Threshold = (18.5,25.0,30.0)\n",
    "\n",
    "    for i in range(len(Threshold)):\n",
    "        if BMI < Threshold[i]:\n",
    "            return Category[i]\n",
    "\n",
    "    return Category[3]"
   ]
  },
  {
   "cell_type": "code",
   "execution_count": 12,
   "id": "895e1c5f-9641-430a-a327-9b2a1cbc1ec4",
   "metadata": {},
   "outputs": [
    {
     "name": "stdout",
     "output_type": "stream",
     "text": [
      "Normal weight\n"
     ]
    }
   ],
   "source": [
    "print(calculate_bmi(47.36,1.60))"
   ]
  },
  {
   "cell_type": "markdown",
   "id": "3225ce02-9ce8-4d28-a0aa-47aa8c17668b",
   "metadata": {},
   "source": [
    "# Factorials"
   ]
  },
  {
   "cell_type": "code",
   "execution_count": 7,
   "id": "8d875edd-80ff-444c-a34c-0360fd285edc",
   "metadata": {},
   "outputs": [],
   "source": [
    "def fact_recursive(n):\n",
    "\n",
    "    assert n >= 0, \"x is becoming negative!\"\n",
    "    \n",
    "    if n == 0:\n",
    "        return 1\n",
    "    elif n > 0:\n",
    "        return n * fact_recursive(n-1)"
   ]
  },
  {
   "cell_type": "code",
   "execution_count": 8,
   "id": "dfab9d93-d9e8-4eed-9993-b58e42590764",
   "metadata": {},
   "outputs": [],
   "source": [
    "def fact_iterative(n):\n",
    "    res = 1\n",
    "    while n > 0:\n",
    "        res *= n\n",
    "        n -= 1\n",
    "    return res"
   ]
  },
  {
   "cell_type": "code",
   "execution_count": 9,
   "id": "b84ffe73-1703-4ec2-917b-4a3e307616a0",
   "metadata": {},
   "outputs": [
    {
     "ename": "AssertionError",
     "evalue": "x is becoming negative!",
     "output_type": "error",
     "traceback": [
      "\u001b[31m---------------------------------------------------------------------------\u001b[39m",
      "\u001b[31mAssertionError\u001b[39m                            Traceback (most recent call last)",
      "\u001b[36mCell\u001b[39m\u001b[36m \u001b[39m\u001b[32mIn[9]\u001b[39m\u001b[32m, line 1\u001b[39m\n\u001b[32m----> \u001b[39m\u001b[32m1\u001b[39m \u001b[38;5;28mprint\u001b[39m(\u001b[43mfact_recursive\u001b[49m\u001b[43m(\u001b[49m\u001b[43m-\u001b[49m\u001b[32;43m5\u001b[39;49m\u001b[43m)\u001b[49m)\n",
      "\u001b[36mCell\u001b[39m\u001b[36m \u001b[39m\u001b[32mIn[7]\u001b[39m\u001b[32m, line 3\u001b[39m, in \u001b[36mfact_recursive\u001b[39m\u001b[34m(n)\u001b[39m\n\u001b[32m      1\u001b[39m \u001b[38;5;28;01mdef\u001b[39;00m\u001b[38;5;250m \u001b[39m\u001b[34mfact_recursive\u001b[39m(n):\n\u001b[32m----> \u001b[39m\u001b[32m3\u001b[39m     \u001b[38;5;28;01massert\u001b[39;00m n >= \u001b[32m0\u001b[39m, \u001b[33m\"\u001b[39m\u001b[33mx is becoming negative!\u001b[39m\u001b[33m\"\u001b[39m\n\u001b[32m      5\u001b[39m     \u001b[38;5;28;01mif\u001b[39;00m n == \u001b[32m0\u001b[39m:\n\u001b[32m      6\u001b[39m         \u001b[38;5;28;01mreturn\u001b[39;00m \u001b[32m1\u001b[39m\n",
      "\u001b[31mAssertionError\u001b[39m: x is becoming negative!"
     ]
    }
   ],
   "source": [
    "print(fact_recursive(-5))"
   ]
  },
  {
   "cell_type": "code",
   "execution_count": 10,
   "id": "e9e05077-970c-464b-8b18-bae11bcedfcc",
   "metadata": {},
   "outputs": [
    {
     "name": "stdout",
     "output_type": "stream",
     "text": [
      "120\n"
     ]
    }
   ],
   "source": [
    "print(fact_recursive(5))"
   ]
  },
  {
   "cell_type": "code",
   "execution_count": 11,
   "id": "90163e50-442f-48c8-ae8d-21b2a30908a1",
   "metadata": {},
   "outputs": [
    {
     "name": "stdout",
     "output_type": "stream",
     "text": [
      "120\n"
     ]
    }
   ],
   "source": [
    "print(fact_iterative(5))"
   ]
  }
 ],
 "metadata": {
  "kernelspec": {
   "display_name": "Python 3 (ipykernel)",
   "language": "python",
   "name": "python3"
  },
  "language_info": {
   "codemirror_mode": {
    "name": "ipython",
    "version": 3
   },
   "file_extension": ".py",
   "mimetype": "text/x-python",
   "name": "python",
   "nbconvert_exporter": "python",
   "pygments_lexer": "ipython3",
   "version": "3.13.2"
  },
  "toc": {
   "base_numbering": 1,
   "nav_menu": {},
   "number_sections": true,
   "sideBar": true,
   "skip_h1_title": false,
   "title_cell": "Table of Contents",
   "title_sidebar": "Contents",
   "toc_cell": false,
   "toc_position": {},
   "toc_section_display": true,
   "toc_window_display": false
  },
  "vscode": {
   "interpreter": {
    "hash": "31f2aee4e71d21fbe5cf8b01ff0e069b9275f58929596ceb00d14d90e3e16cd6"
   }
  }
 },
 "nbformat": 4,
 "nbformat_minor": 5
}
