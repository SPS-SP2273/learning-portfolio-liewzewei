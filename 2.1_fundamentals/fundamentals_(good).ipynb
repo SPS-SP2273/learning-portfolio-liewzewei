{
 "cells": [
  {
   "attachments": {},
   "cell_type": "markdown",
   "id": "123456",
   "metadata": {},
   "source": [
    "<div style=\"text-align:left;font-size:2em\"><span style=\"font-weight:bolder;font-size:1.25em\">SP2273 | Learning Portfolio</span><br><br><span style=\"font-weight:bold;color:darkred\">Fundamentals (Good)</span></div>"
   ]
  },
  {
   "attachments": {},
   "cell_type": "markdown",
   "id": "9e749969",
   "metadata": {},
   "source": [
    "# What to expect in this chapter"
   ]
  },
  {
   "attachments": {},
   "cell_type": "markdown",
   "id": "de54772d",
   "metadata": {},
   "source": [
    "# 1 There is more to if"
   ]
  },
  {
   "attachments": {},
   "cell_type": "markdown",
   "id": "f82d4b8c",
   "metadata": {},
   "source": [
    "# 2 Asking questions"
   ]
  },
  {
   "attachments": {},
   "cell_type": "markdown",
   "id": "3c0858ce",
   "metadata": {},
   "source": [
    "## 2.1 Asking Math questions"
   ]
  },
  {
   "attachments": {},
   "cell_type": "markdown",
   "id": "e4d75655",
   "metadata": {},
   "source": [
    "# 3 Python stores information in different formats or types"
   ]
  },
  {
   "attachments": {},
   "cell_type": "markdown",
   "id": "70fcea3a",
   "metadata": {},
   "source": [
    "# 4 Never compare floats directly"
   ]
  },
  {
   "attachments": {},
   "cell_type": "markdown",
   "id": "5a404233",
   "metadata": {},
   "source": [
    "## 4.1 The Problem"
   ]
  },
  {
   "cell_type": "code",
   "execution_count": 14,
   "id": "ce1dd009-f4b3-4181-8a4c-82bde8791c07",
   "metadata": {},
   "outputs": [
    {
     "name": "stdout",
     "output_type": "stream",
     "text": [
      "False\n"
     ]
    }
   ],
   "source": [
    "# Due to the limitations of how python stores information,\n",
    "# results of operations done on floats result in an\n",
    "# infinitely repeating binary fraction.\n",
    "\n",
    "\n",
    "a = 0.3\n",
    "b = 0.1\n",
    "print(a==b*3)"
   ]
  },
  {
   "attachments": {},
   "cell_type": "markdown",
   "id": "caa2055f",
   "metadata": {},
   "source": [
    "## 4.2 A solution"
   ]
  },
  {
   "cell_type": "code",
   "execution_count": 15,
   "id": "4a1a212f-29a9-4db6-800a-d2f9c74a87fd",
   "metadata": {},
   "outputs": [
    {
     "data": {
      "text/plain": [
       "True"
      ]
     },
     "execution_count": 15,
     "metadata": {},
     "output_type": "execute_result"
    }
   ],
   "source": [
    "eps = 1E-10 # Acceptance threshold\n",
    "abs(b*3-a) < eps"
   ]
  },
  {
   "cell_type": "code",
   "execution_count": 16,
   "id": "48d64fa6-65e4-419e-bf75-c31858127610",
   "metadata": {},
   "outputs": [
    {
     "data": {
      "text/plain": [
       "np.True_"
      ]
     },
     "execution_count": 16,
     "metadata": {},
     "output_type": "execute_result"
    }
   ],
   "source": [
    "import numpy as np\n",
    "np.isclose(b*3,a)"
   ]
  },
  {
   "attachments": {},
   "cell_type": "markdown",
   "id": "1237e414",
   "metadata": {},
   "source": [
    "# 5 Combining English and variables"
   ]
  },
  {
   "attachments": {},
   "cell_type": "markdown",
   "id": "0754a5a1",
   "metadata": {},
   "source": [
    "## 5.1 Structure of f-strings"
   ]
  },
  {
   "cell_type": "code",
   "execution_count": 18,
   "id": "487ba9ff-dc1a-4f10-a9b3-c3d86c39b779",
   "metadata": {},
   "outputs": [
    {
     "name": "stdout",
     "output_type": "stream",
     "text": [
      "Lorem ipsum dolor sit amet, consectetur adipiscing elit. Curabitur facilisis orci at pellentesque hendrerit. Phasellus vel condimentum risus. Proin enim turpis, tempor eu pretium quis.\n"
     ]
    }
   ],
   "source": [
    "text = 'Lorem ipsum dolor sit amet, consectetur adipiscing elit. Curabitur facilisis orci at pellentesque hendrerit. Phasellus vel condimentum risus. Proin enim turpis, tempor eu pretium quis.'\n",
    "\n",
    "print(f'{text:>30}')"
   ]
  },
  {
   "cell_type": "code",
   "execution_count": 24,
   "id": "4ddf983a-9ad3-4f8e-bafd-708b4ee5b208",
   "metadata": {},
   "outputs": [
    {
     "name": "stdout",
     "output_type": "stream",
     "text": [
      "                   Lorem ipsum\n",
      "                                  Lorem ipsum\n",
      "===============\n",
      "Lorem ipsum,i=0\n",
      "    Lorem ipsum,i=15\n",
      "                   Lorem ipsum,i=30\n",
      "                                  Lorem ipsum,i=45\n",
      "                                                 Lorem ipsum,i=60\n",
      "                                                                Lorem ipsum,i=75\n",
      "                                                                               Lorem ipsum,i=90\n",
      "                                                                                              Lorem ipsum,i=105\n",
      "                                                                                                             Lorem ipsum,i=120\n",
      "                                                                                                                            Lorem ipsum,i=135\n",
      "                                                                                                                                           Lorem ipsum,i=150\n",
      "                                                                                                                                                          Lorem ipsum,i=165\n",
      "                                                                                                                                                                         Lorem ipsum,i=180\n",
      "                                                                                                                                                                                        Lorem ipsum,i=195\n"
     ]
    }
   ],
   "source": [
    "smaller_text = 'Lorem ipsum'\n",
    "\n",
    "print(f'{smaller_text:>30}')\n",
    "print(f'{smaller_text:>45}')\n",
    "print('='*15)\n",
    "\n",
    "i = 0\n",
    "\n",
    "while i < 200:\n",
    "    print(f'{smaller_text:>{i}},i={i}')\n",
    "    i += 15"
   ]
  },
  {
   "attachments": {},
   "cell_type": "markdown",
   "id": "a663627e",
   "metadata": {},
   "source": [
    "# 6 Escape sequences"
   ]
  },
  {
   "attachments": {},
   "cell_type": "markdown",
   "id": "638a6dd2",
   "metadata": {},
   "source": [
    "## 6.1 Self-documenting f-strings"
   ]
  },
  {
   "attachments": {},
   "cell_type": "markdown",
   "id": "16d1dbab",
   "metadata": {},
   "source": [
    "# 7 Computers read = from Right to Left!"
   ]
  },
  {
   "attachments": {},
   "cell_type": "markdown",
   "id": "d07defaa",
   "metadata": {},
   "source": [
    "# 8 Shorter and Cleaner Code"
   ]
  },
  {
   "attachments": {},
   "cell_type": "markdown",
   "id": "0c1ee841",
   "metadata": {},
   "source": [
    "# 9 Python can be a prima-donna."
   ]
  },
  {
   "attachments": {},
   "cell_type": "markdown",
   "id": "213043bb",
   "metadata": {},
   "source": [
    "# 10 Best Practices for Scientific Computing"
   ]
  },
  {
   "attachments": {},
   "cell_type": "markdown",
   "id": "302575d1",
   "metadata": {},
   "source": [
    "# 11 Looking for help"
   ]
  },
  {
   "attachments": {},
   "cell_type": "markdown",
   "id": "4d9178b7",
   "metadata": {},
   "source": [
    "## References"
   ]
  },
  {
   "attachments": {},
   "cell_type": "markdown",
   "id": "19764886",
   "metadata": {},
   "source": [
    "## Footnotes"
   ]
  }
 ],
 "metadata": {
  "kernelspec": {
   "display_name": "Python 3 (ipykernel)",
   "language": "python",
   "name": "python3"
  },
  "language_info": {
   "codemirror_mode": {
    "name": "ipython",
    "version": 3
   },
   "file_extension": ".py",
   "mimetype": "text/x-python",
   "name": "python",
   "nbconvert_exporter": "python",
   "pygments_lexer": "ipython3",
   "version": "3.13.2"
  },
  "toc": {
   "base_numbering": 1,
   "nav_menu": {},
   "number_sections": true,
   "sideBar": true,
   "skip_h1_title": false,
   "title_cell": "Table of Contents",
   "title_sidebar": "Contents",
   "toc_cell": false,
   "toc_position": {},
   "toc_section_display": true,
   "toc_window_display": false
  },
  "vscode": {
   "interpreter": {
    "hash": "31f2aee4e71d21fbe5cf8b01ff0e069b9275f58929596ceb00d14d90e3e16cd6"
   }
  }
 },
 "nbformat": 4,
 "nbformat_minor": 5
}
