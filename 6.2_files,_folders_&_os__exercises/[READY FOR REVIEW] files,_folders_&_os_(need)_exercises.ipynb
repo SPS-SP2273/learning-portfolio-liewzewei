{
 "cells": [
  {
   "attachments": {},
   "cell_type": "markdown",
   "id": "123456",
   "metadata": {},
   "source": [
    "<div style=\"text-align:left;font-size:2em\"><span style=\"font-weight:bolder;font-size:1.25em\">SP2273 | Learning Portfolio</span><br><br><span style=\"font-weight:bold;color:darkred\">Files, Folders & OS (Need) Exercises</span></div>"
   ]
  },
  {
   "cell_type": "markdown",
   "id": "64240118-75c2-46af-a3e8-485622f41884",
   "metadata": {},
   "source": [
    "# Tidying a Collaboration"
   ]
  },
  {
   "cell_type": "code",
   "execution_count": 1,
   "id": "34798d68-9cde-49b5-bcbd-c10eca3089d5",
   "metadata": {},
   "outputs": [],
   "source": [
    "# Importing packages\n",
    "import os\n",
    "import glob\n",
    "import shutil"
   ]
  },
  {
   "cell_type": "markdown",
   "id": "53a096e7-2477-4a2d-8ea4-7bfa12ae5792",
   "metadata": {},
   "source": [
    "## Task 1"
   ]
  },
  {
   "cell_type": "code",
   "execution_count": 2,
   "id": "5b42e359-fc3a-4e86-b397-ae727cd37067",
   "metadata": {},
   "outputs": [],
   "source": [
    "month_map = {\n",
    "'jan': '01', 'feb': '02', 'mar': '03',\n",
    "'apr': '04', 'may': '05', 'jun': '06',\n",
    "'jul': '07', 'aug': '08', 'sep': '09',\n",
    "'oct': '10', 'nov': '11', 'dec': '12'\n",
    "}"
   ]
  },
  {
   "cell_type": "code",
   "execution_count": 3,
   "id": "97d6b9eb-e087-4c42-8412-c5444847b7ff",
   "metadata": {},
   "outputs": [
    {
     "name": "stdout",
     "output_type": "stream",
     "text": [
      "Renaming ...\n",
      "Renamed oct-08_singapore.txt to 10-08_singapore.txt\n"
     ]
    }
   ],
   "source": [
    "parent = 'os-collaboration-exercise-data'\n",
    "filename = 'oct-08_singapore.txt'\n",
    "new_filename = month_map[filename[:3]] + filename[3:]\n",
    "\n",
    "print('Renaming ...')\n",
    "old_path = os.path.join(parent,filename)\n",
    "new_path = os.path.join(parent,new_filename)\n",
    "# os.rename(old_path,new_path)\n",
    "print(f'Renamed {filename} to {new_filename}')"
   ]
  },
  {
   "cell_type": "markdown",
   "id": "ab306224-bb32-4e1e-90fe-bb57909b30d1",
   "metadata": {},
   "source": [
    "## Task 2"
   ]
  },
  {
   "cell_type": "code",
   "execution_count": 4,
   "id": "2ab4a64e-31ea-49e4-88ba-e7475a56d380",
   "metadata": {},
   "outputs": [],
   "source": [
    "def rename_my_file(old_file_name):\n",
    "    new_file_name = month_map[old_file_name[:3]] + old_file_name[3:]\n",
    "    return new_file_name"
   ]
  },
  {
   "cell_type": "markdown",
   "id": "a126850b-98c8-4240-9125-bb4e69cfc47a",
   "metadata": {},
   "source": [
    "## Task 3"
   ]
  },
  {
   "cell_type": "code",
   "execution_count": 5,
   "id": "9abdf110-e499-4dfd-85d6-26e6626a345e",
   "metadata": {},
   "outputs": [],
   "source": [
    "file_arr = ['oct-08_singapore.txt', 'jul-10_cairo.txt', 'may-15_dhaka.txt',\n",
    " 'may-13_cairo.txt', 'oct-21_cairo.txt', 'jan-10_singapore.txt',\n",
    " 'jun-20_tokyo.txt', 'aug-06_jakarta.txt', 'dec-21_karachi.txt',\n",
    " 'jan-01_tokyo.txt']"
   ]
  },
  {
   "cell_type": "code",
   "execution_count": 6,
   "id": "f1258bbb-c0c2-4326-8d96-c6f7540756a7",
   "metadata": {},
   "outputs": [
    {
     "name": "stdout",
     "output_type": "stream",
     "text": [
      "oct-08_singapore.txt ----> 10-08_singapore.txt\n",
      "jul-10_cairo.txt ----> 07-10_cairo.txt\n",
      "may-15_dhaka.txt ----> 05-15_dhaka.txt\n",
      "may-13_cairo.txt ----> 05-13_cairo.txt\n",
      "oct-21_cairo.txt ----> 10-21_cairo.txt\n",
      "jan-10_singapore.txt ----> 01-10_singapore.txt\n",
      "jun-20_tokyo.txt ----> 06-20_tokyo.txt\n",
      "aug-06_jakarta.txt ----> 08-06_jakarta.txt\n",
      "dec-21_karachi.txt ----> 12-21_karachi.txt\n",
      "jan-01_tokyo.txt ----> 01-01_tokyo.txt\n"
     ]
    }
   ],
   "source": [
    "for old_file_name in file_arr:\n",
    "    new_file_name = rename_my_file(old_file_name)\n",
    "    old_path = os.path.join(parent,old_file_name)\n",
    "    new_path = os.path.join(parent,new_file_name)\n",
    "    # os.rename(old_path,new_path)\n",
    "    print(f\"{old_file_name} ----> {new_file_name}\")"
   ]
  },
  {
   "cell_type": "markdown",
   "id": "243b3df6-191d-4bb7-8e20-3f54227bade5",
   "metadata": {},
   "source": [
    "## Task 4"
   ]
  },
  {
   "cell_type": "code",
   "execution_count": 7,
   "id": "7e244e03-265c-4d52-8ff8-4e5993b36c28",
   "metadata": {},
   "outputs": [],
   "source": [
    "glob_arr = glob.glob(os.path.join(parent,'*.txt'))"
   ]
  },
  {
   "cell_type": "code",
   "execution_count": 8,
   "id": "c721fe75-497c-45b0-9338-0b19793fc2ec",
   "metadata": {},
   "outputs": [
    {
     "name": "stdout",
     "output_type": "stream",
     "text": [
      "Renaming ...\n",
      "Renaming Completed\n"
     ]
    }
   ],
   "source": [
    "print('Renaming ...')\n",
    "for old_path in glob_arr:\n",
    "    # Getting the parent directory\n",
    "    parent = os.path.dirname(old_path)\n",
    "    # Getting the originial file name\n",
    "    old_file_name = os.path.basename(old_path)\n",
    "    # Renaming the original file name\n",
    "    new_file_name = rename_my_file(old_file_name)\n",
    "    # Concatenating parent directory with new file name\n",
    "    new_path = os.path.join(parent,new_file_name)\n",
    "    os.rename(old_path,new_path)\n",
    "print('Renaming Completed')"
   ]
  },
  {
   "cell_type": "markdown",
   "id": "88f22033-3425-4b8b-8a99-bf79786d2b62",
   "metadata": {},
   "source": [
    "## Task 5"
   ]
  },
  {
   "cell_type": "code",
   "execution_count": 9,
   "id": "5855abc3-dfaf-4051-98cb-bbce2e5aaf84",
   "metadata": {},
   "outputs": [],
   "source": [
    "city_arr = ['Cairo', 'Dhaka', 'Jakarta', 'Karachi', 'Manila',\n",
    " 'Melbourne', 'Osaka', 'Shanghai', 'Singapore', 'Tokyo']"
   ]
  },
  {
   "cell_type": "code",
   "execution_count": 10,
   "id": "23c066e2-e340-4e00-ad64-417c76b51b67",
   "metadata": {},
   "outputs": [],
   "source": [
    "for city_name in city_arr:\n",
    "    os.mkdir(city_name)"
   ]
  },
  {
   "cell_type": "markdown",
   "id": "9c1b79a0-cf12-4879-afcb-4704c5d07fda",
   "metadata": {},
   "source": [
    "## Task 6"
   ]
  },
  {
   "cell_type": "code",
   "execution_count": 11,
   "id": "b3cd9266-3acb-49aa-853e-06daef116796",
   "metadata": {},
   "outputs": [],
   "source": [
    "cairo_arr = glob.glob(os.path.join(parent,'*_cairo.txt'))"
   ]
  },
  {
   "cell_type": "code",
   "execution_count": 12,
   "id": "b3bbee62-f0ed-4392-9361-c94356f67af7",
   "metadata": {},
   "outputs": [],
   "source": [
    "for old_path in cairo_arr:\n",
    "    parent = os.path.dirname(old_path)\n",
    "    file = os.path.basename(old_path)\n",
    "    new_path = os.path.join(city_arr[0],file)\n",
    "    shutil.copy(old_path,new_path)"
   ]
  },
  {
   "cell_type": "markdown",
   "id": "8a117daa-c83e-47e2-8faa-64596e2e54ae",
   "metadata": {},
   "source": [
    "## Task 7"
   ]
  },
  {
   "cell_type": "code",
   "execution_count": 11,
   "id": "b8d0e0b9-0e0f-41f0-bd8d-1ce7d1a66a7c",
   "metadata": {},
   "outputs": [],
   "source": [
    "for i in range(len(city_arr)):\n",
    "    city_name_lwr = city_arr[i].lower()\n",
    "    temp_arr = glob.glob(os.path.join(parent,f'*_{city_name_lwr}.txt'))\n",
    "\n",
    "    for old_path in temp_arr:\n",
    "        parent = os.path.dirname(old_path)\n",
    "        file = os.path.basename(old_path)\n",
    "        new_path = os.path.join(city_arr[i],file)\n",
    "        shutil.move(old_path,new_path)"
   ]
  },
  {
   "cell_type": "markdown",
   "id": "1e535638-6dfb-4e42-80a4-42a0e273c001",
   "metadata": {},
   "source": [
    "## Archives"
   ]
  },
  {
   "cell_type": "code",
   "execution_count": null,
   "id": "2d93218f-b9a8-43fc-aca9-7c5c62990b57",
   "metadata": {},
   "outputs": [],
   "source": [
    "'''\n",
    "The following code moves all text files into a separate folder\n",
    "and renames all the files through a for loop using os and shutil.\n",
    "'''\n",
    "\n",
    "# # Moving all text files to a separate folder\n",
    "# for filename in os.listdir(src_parent_dir):\n",
    "#     if filename.endswith(\".txt\"):\n",
    "#         src_pth = os.path.join(src_parent_dir,filename)\n",
    "#         tgt_pth = os.path.join(tgt_parent_dir,filename)\n",
    "\n",
    "#         shutil.move(src_pth,tgt_pth)\n",
    "#         print(f\"Moved {filename} to {tgt_parent_dir}\")\n",
    "\n",
    "# # Renames all txt files in tgt_parent_dir\n",
    "# print(\"Renaming ...\")\n",
    "# for filename in os.listdir(tgt_parent_dir):\n",
    "#     if not filename.endswith(\".txt\"):\n",
    "#         continue\n",
    "#     month = filename[:3].lower()\n",
    "#     new_filename = month_map[month] + filename[3:]\n",
    "#     old_filepath = os.path.join(tgt_parent_dir,filename)\n",
    "#     new_filepath = os.path.join(tgt_parent_dir,new_filename)\n",
    "#     os.rename(old_filepath,new_filepath)\n",
    "# print(\"Rename completed.\")"
   ]
  }
 ],
 "metadata": {
  "kernelspec": {
   "display_name": "Python 3 (ipykernel)",
   "language": "python",
   "name": "python3"
  },
  "language_info": {
   "codemirror_mode": {
    "name": "ipython",
    "version": 3
   },
   "file_extension": ".py",
   "mimetype": "text/x-python",
   "name": "python",
   "nbconvert_exporter": "python",
   "pygments_lexer": "ipython3",
   "version": "3.13.2"
  },
  "toc": {
   "base_numbering": 1,
   "nav_menu": {},
   "number_sections": true,
   "sideBar": true,
   "skip_h1_title": false,
   "title_cell": "Table of Contents",
   "title_sidebar": "Contents",
   "toc_cell": false,
   "toc_position": {},
   "toc_section_display": true,
   "toc_window_display": false
  },
  "vscode": {
   "interpreter": {
    "hash": "31f2aee4e71d21fbe5cf8b01ff0e069b9275f58929596ceb00d14d90e3e16cd6"
   }
  }
 },
 "nbformat": 4,
 "nbformat_minor": 5
}
